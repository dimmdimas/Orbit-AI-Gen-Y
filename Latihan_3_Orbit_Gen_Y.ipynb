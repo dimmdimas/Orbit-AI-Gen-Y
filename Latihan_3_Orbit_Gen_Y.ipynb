{
  "nbformat": 4,
  "nbformat_minor": 2,
  "metadata": {
    "colab": {
      "name": "Latihan_2_Orbit_Gen_Y.ipynb",
      "provenance": [],
      "authorship_tag": "ABX9TyMieXjMIGWzrM/zzvEpmEU5",
      "include_colab_link": true
    },
    "kernelspec": {
      "name": "python3",
      "display_name": "Python 3.9.6 64-bit"
    },
    "language_info": {
      "name": "python",
      "version": "3.9.6",
      "mimetype": "text/x-python",
      "codemirror_mode": {
        "name": "ipython",
        "version": 3
      },
      "pygments_lexer": "ipython3",
      "nbconvert_exporter": "python",
      "file_extension": ".py"
    },
    "interpreter": {
      "hash": "aee8b7b246df8f9039afb4144a1f6fd8d2ca17a180786b69acc140d282b71a49"
    }
  },
  "cells": [
    {
      "cell_type": "markdown",
      "source": [
        "<a href=\"https://colab.research.google.com/github/dimmdimas/Orbit-AI-Gen-Y/blob/main/Latihan_2_Orbit_Gen_Y.ipynb\" target=\"_parent\"><img src=\"https://colab.research.google.com/assets/colab-badge.svg\" alt=\"Open In Colab\"/></a>"
      ],
      "metadata": {
        "id": "view-in-github",
        "colab_type": "text"
      }
    },
    {
      "cell_type": "markdown",
      "source": [
        "**Data Structure And Algorithm**\n",
        "--"
      ],
      "metadata": {}
    },
    {
      "cell_type": "markdown",
      "source": [
        "    1.  if bersarang        = terdapat fungsi if didalam fungsi if\n",
        "    2.  pass                = fungsi yang tidak melakukakan proses apa - apa\n",
        "    3.  defining function   = def merupakan sebuah definisi fungsi yang kita buat sendiri\n",
        "    4.  break & continue    = break digunakan untuk menghentikan sebuah perintah, continue untuk melanjutkan perintah"
      ],
      "metadata": {}
    },
    {
      "cell_type": "code",
      "execution_count": 9,
      "source": [
        "#if bersarang\n",
        "\n",
        "a = 4\n",
        "b = 3\n",
        "\n",
        "if (a == b):\n",
        "    if (a != 4):\n",
        "        print('Nilai A sama dengan B namun bukan 4')\n",
        "    else:\n",
        "        print('Nilai A sama dengan B')\n",
        "elif (a > b):\n",
        "        print('Nilai A lebih besar dari B')\n",
        "else:\n",
        "        print('Nilai A lebih kecil dari B')\n",
        "\n",
        "\n",
        "#pass\n",
        "\n",
        "x = 10\n",
        "\n",
        "if (x < 5):\n",
        "    x = 3\n",
        "    print(x)\n",
        "else:\n",
        "    pass\n",
        "\n",
        "#defining function\n",
        "def fib(n):\n",
        "    a, b =0, 1\n",
        "\n",
        "    while a < n:\n",
        "        print(a, end=' ')\n",
        "        a, b = b, a + b\n",
        "\n",
        "fib(2000)\n",
        "\n",
        "#break\n",
        "\n",
        "for n in range(2, 10):\n",
        "    for x in range(2, n):\n",
        "        if n % x == 0:\n",
        "            print(n, 'sama dengan', x, '*', n//x)\n",
        "            break\n",
        "        else:\n",
        "            print(n, 'ini adalah sebuah bilangan prima')\n",
        "\n",
        "#continue\n",
        "\n",
        "for num in range(2, 10):\n",
        "    if num % 2 == 0:\n",
        "        print('Nomor genap ditemukan', num)\n",
        "        continue\n",
        "    print('Nomor ganjil ditemukan', num)\n"
      ],
      "outputs": [
        {
          "output_type": "stream",
          "name": "stdout",
          "text": [
            "Nilai A lebih besar dari B\n",
            "0 1 1 2 3 5 8 13 21 34 55 89 144 233 377 610 987 1597 3 ini adalah sebuah bilangan prima\n",
            "4 sama dengan 2 * 2\n",
            "5 ini adalah sebuah bilangan prima\n",
            "5 ini adalah sebuah bilangan prima\n",
            "5 ini adalah sebuah bilangan prima\n",
            "6 sama dengan 2 * 3\n",
            "7 ini adalah sebuah bilangan prima\n",
            "7 ini adalah sebuah bilangan prima\n",
            "7 ini adalah sebuah bilangan prima\n",
            "7 ini adalah sebuah bilangan prima\n",
            "7 ini adalah sebuah bilangan prima\n",
            "8 sama dengan 2 * 4\n",
            "9 ini adalah sebuah bilangan prima\n",
            "9 sama dengan 3 * 3\n",
            "Nomor genap ditemukan 2\n",
            "Nomor ganjil ditemukan 3\n",
            "Nomor genap ditemukan 4\n",
            "Nomor ganjil ditemukan 5\n",
            "Nomor genap ditemukan 6\n",
            "Nomor ganjil ditemukan 7\n",
            "Nomor genap ditemukan 8\n",
            "Nomor ganjil ditemukan 9\n"
          ]
        }
      ],
      "metadata": {}
    },
    {
      "cell_type": "markdown",
      "source": [
        "Object-Oriented Programming (OOP)\n",
        "--\n"
      ],
      "metadata": {}
    },
    {
      "cell_type": "code",
      "execution_count": 10,
      "source": [
        "class Segitiga:\n",
        "    def __init__(self, alas, tinggi):\n",
        "        self.alas = alas\n",
        "        self.tinggi = tinggi\n",
        "    \n",
        "    def get_luas(self):\n",
        "        return 0.5 * self.alas * self.tinggi\n",
        "\n",
        "segitiga1 = Segitiga(5, 10)\n",
        "segitiga2 = Segitiga(10, 10)\n",
        "\n",
        "print('Luas Segitiga 1: ', segitiga1.get_luas())\n",
        "print('Luas Segitiga 2: ', segitiga2.get_luas())"
      ],
      "outputs": [
        {
          "output_type": "stream",
          "name": "stdout",
          "text": [
            "Luas Segitiga 1:  25.0\n",
            "Luas Segitiga 2:  50.0\n"
          ]
        }
      ],
      "metadata": {}
    },
    {
      "cell_type": "markdown",
      "source": [
        "**1. Tree Traversal Algorithm**\n",
        "--\n",
        "\n",
        "        a. In-Order Traversal\n",
        "        b. Pre-Order Traversal\n",
        "        c. Post-Order Traversal"
      ],
      "metadata": {}
    },
    {
      "cell_type": "code",
      "execution_count": 16,
      "source": [
        "class Node:\n",
        "    def __init__(self, letter):\n",
        "        self.childleft = None\n",
        "        self.childright = None\n",
        "        self.nodedata = letter\n",
        "\n",
        "# create the nodes for the tree\n",
        "root = Node('A')\n",
        "root.childleft = Node('B')\n",
        "root.childright = Node('C')\n",
        "root.childleft.childleft = Node('D')\n",
        "root.childleft.childright = Node('E')\n",
        "\n",
        "#In-Order Traversal\n",
        "def InOrd(root):\n",
        "    if root:\n",
        "        InOrd(root.childleft)\n",
        "        print(root.nodedata)\n",
        "        InOrd(root.childright)\n",
        "InOrd(root)\n",
        "\n",
        "def PreOrd(root):\n",
        "    if root:\n",
        "        PreOrd(root.childleft)\n",
        "        print(root.nodedata)\n",
        "        PreOrd(root.childright)\n",
        "PreOrd(root)\n",
        "\n",
        "def PostOrd(root):\n",
        "    if root:\n",
        "        PostOrd(root.childleft)\n",
        "        print(root.nodedata)\n",
        "        PostOrd(root.childright)\n",
        "PostOrd(root)"
      ],
      "outputs": [
        {
          "output_type": "stream",
          "name": "stdout",
          "text": [
            "D\n",
            "B\n",
            "E\n",
            "A\n",
            "C\n",
            "D\n",
            "B\n",
            "E\n",
            "A\n",
            "C\n",
            "D\n",
            "B\n",
            "E\n",
            "A\n",
            "C\n"
          ]
        }
      ],
      "metadata": {}
    },
    {
      "cell_type": "markdown",
      "source": [
        "**2. Sorting Algorithm**\n",
        "--\n",
        "\n",
        "    a. Merge Sort\n",
        "    b. Bubble Sort"
      ],
      "metadata": {}
    },
    {
      "cell_type": "markdown",
      "source": [
        "#Merge Sort"
      ],
      "metadata": {}
    },
    {
      "cell_type": "code",
      "execution_count": 17,
      "source": [
        "def merge_sort(ourlist, left, right): #left and right corresponds to starting and ending element of ourlist\n",
        "    if right -left > 1: # check if the length of ourlist is greater than 1\n",
        "        middle = (left + right) // 2 # we divide the length in two parts\n",
        "        merge_sort(ourlist, left, middle) # recursevely I call the merge_sort function from left to middle\n",
        "        merge_sort(ourlist, middle, right) # then from middle to right\n",
        "        merge_list(ourlist, left, middle, right) # finally I create ourlist in complete form(left, middle and right) \n",
        "        \n",
        "def merge_list(ourlist, left, middle, right):# I create the function merged_list\n",
        "    leftlist = ourlist[left:middle] # I define the leftlist\n",
        "    rightlist = ourlist[middle:right] # I define the right list\n",
        "    k = left # it is the the temporary variable\n",
        "    i = 0 # this variable that corespond to the index of the first group help me to iterate from left to right\n",
        "    j = 0 # this variable that corespond to the index of the second group help me to iterate from left to right\n",
        "    while (left + i < middle and middle+ j < right): # the condition that I want to achive before to stop my iteration\n",
        "        if (leftlist[i] <= rightlist[j]): #if the element in the leftlist is less or equal to the element in the rightlist\n",
        "            ourlist[k] = leftlist[i] # In this case I fill the value of the leftlist in ourlist with index k\n",
        "            i = i + 1 #now I have to increment the value by 1\n",
        "        else: # if the above codition is not match\n",
        "            ourlist[k] = rightlist[j] # I fill the rightlist element in ourlist with index k\n",
        "            j = j + 1 # I increment index j by 1\n",
        "        k = k+1 # now I increment the value of k by 1\n",
        "    if left + i < middle: # check if left + i is less than middle\n",
        "        ourlist[k] = leftlist[i] # I place all elements of my leftlist in ourlist\n",
        "        i = i + 1\n",
        "        k = k + 1\n",
        "    else: # otherwise if my leftlist is empty\n",
        "        while k < right: # untill k is less then rightang \n",
        "            ourlist[k] = rightlist[j] # I place all elements of rightlist in ourlist \n",
        "            j = j + 1\n",
        "            k = k + 1\n",
        "            \n",
        "ourlist = input('input - masukkan nilai yang belum di sorting, kasih spasi pada setiap nilai, misalnya 1 23 6 5: ').split() # insert the input and split\n",
        "ourlist = [int(x) for x in ourlist]\n",
        "merge_sort(ourlist, 0, len(ourlist))\n",
        "print('output - nilai2 yang sudah di sorting: ')\n",
        "print(ourlist)"
      ],
      "outputs": [
        {
          "output_type": "stream",
          "name": "stdout",
          "text": [
            "output - nilai2 yang sudah di sorting: \n",
            "[1, 19, 19, 39, 39, 39]\n"
          ]
        }
      ],
      "metadata": {}
    },
    {
      "cell_type": "markdown",
      "source": [
        "#Buuble Sort"
      ],
      "metadata": {}
    },
    {
      "cell_type": "code",
      "execution_count": 18,
      "source": [
        "# Python program for implementation of Bubble Sort\n",
        "  \n",
        "def bubbleSort(arr):\n",
        "    n = len(arr)\n",
        "  \n",
        "    # Traverse through all array elements\n",
        "    for i in range(n-1):\n",
        "    # range(n) also work but outer loop will repeat one time more than needed.\n",
        "  \n",
        "        # Last i elements are already in place\n",
        "        for j in range(0, n-i-1):\n",
        "  \n",
        "            # traverse the array from 0 to n-i-1\n",
        "            # Swap if the element found is greater\n",
        "            # than the next element\n",
        "            if arr[j] > arr[j + 1] :\n",
        "                arr[j], arr[j + 1] = arr[j + 1], arr[j]\n",
        "  \n",
        "# Driver code to test above\n",
        "arr = [64, 34, 25, 12, 22, 11, 90] # Nilai dalam array bisa di ubah sesuai keinginan\n",
        "  \n",
        "bubbleSort(arr)\n",
        "  \n",
        "print (\"Sorted array is:\")\n",
        "for i in range(len(arr)):\n",
        "    print (\"% d\" % arr[i])"
      ],
      "outputs": [
        {
          "output_type": "stream",
          "name": "stdout",
          "text": [
            "Sorted array is:\n",
            " 11\n",
            " 12\n",
            " 22\n",
            " 25\n",
            " 34\n",
            " 64\n",
            " 90\n"
          ]
        }
      ],
      "metadata": {}
    },
    {
      "cell_type": "markdown",
      "source": [
        "**3. Searching Algorithm**\n",
        "--\n",
        "    a. Linier Search\n",
        "    b. Binary Search"
      ],
      "metadata": {}
    },
    {
      "cell_type": "markdown",
      "source": [
        "#Linier Search"
      ],
      "metadata": {}
    },
    {
      "cell_type": "code",
      "execution_count": 19,
      "source": [
        "nilai = 4 \n",
        "\n",
        "def lin_search(ourlist, key):\n",
        "    \n",
        "    for index in range(0, len(ourlist)):\n",
        "        if (ourlist[index] == key):\n",
        "            print(\"Nilai ditemukan\")\n",
        "            return  index\n",
        "    else:\n",
        "        return \"Nilai tidak ditemukan\"\n",
        "    \n",
        "ourlist = [15, 1, 9, 3]\n",
        "\n",
        "lin_search(ourlist, nilai)"
      ],
      "outputs": [
        {
          "output_type": "execute_result",
          "data": {
            "text/plain": [
              "'Nilai tidak ditemukan'"
            ]
          },
          "metadata": {},
          "execution_count": 19
        }
      ],
      "metadata": {}
    },
    {
      "cell_type": "markdown",
      "source": [
        "#Binary Search"
      ],
      "metadata": {}
    },
    {
      "cell_type": "code",
      "execution_count": 20,
      "source": [
        "nilai_a = 17\n",
        "nilai_b = 3\n",
        "\n",
        "def bin_search(ourlist, key):\n",
        "    left = 0 # I assign left position to zero\n",
        "    right = len(ourlist)-1 # I assign right position by defining the length of ourlist minus one \n",
        "    matched = False\n",
        "    while(left<=right and not matched): # the loop will continue untill the left element is less \n",
        "                                        # or equal to the right element and the matched is True\n",
        "        mid = (left+right)//2 # I find the position of the middle element\n",
        "        if ourlist[mid] == key: # if the middle element correponds to the key element\n",
        "             matched = True\n",
        "        else: #otherwise \n",
        "            if key < ourlist[mid]: # if key element is less than the middle element\n",
        "                right = mid - 1 #I assign the position of the right element as mid - 1\n",
        "            else: #otherwise\n",
        "                left = mid + 1 #left position will become the middle position plus 1\n",
        "    return matched\n",
        "\n",
        "print(bin_search([1, 3, 9, 15], nilai_a))\n",
        "print(bin_search([1, 3, 9, 15], nilai_b))"
      ],
      "outputs": [
        {
          "output_type": "stream",
          "name": "stdout",
          "text": [
            "False\n",
            "True\n"
          ]
        }
      ],
      "metadata": {}
    }
  ]
}