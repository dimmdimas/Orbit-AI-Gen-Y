{
  "nbformat": 4,
  "nbformat_minor": 2,
  "metadata": {
    "colab": {
      "name": "Copy of KM-05_ Functions, OOP, Time Complexity .ipynb",
      "provenance": [],
      "collapsed_sections": []
    },
    "kernelspec": {
      "name": "python3",
      "display_name": "Python 3.9.6 64-bit"
    },
    "language_info": {
      "codemirror_mode": {
        "name": "ipython",
        "version": 3
      },
      "file_extension": ".py",
      "mimetype": "text/x-python",
      "name": "python",
      "nbconvert_exporter": "python",
      "pygments_lexer": "ipython3",
      "version": "3.9.6"
    },
    "interpreter": {
      "hash": "aee8b7b246df8f9039afb4144a1f6fd8d2ca17a180786b69acc140d282b71a49"
    }
  },
  "cells": [
    {
      "cell_type": "markdown",
      "source": [
        "# **Fungsi**"
      ],
      "metadata": {
        "id": "Le8N3SLcbiAd"
      }
    },
    {
      "cell_type": "code",
      "execution_count": 9,
      "source": [
        "# Deklarasi Fungsi\n",
        "def cetak(x):\n",
        "  print(x)\n",
        "\n",
        "\n",
        "# Memanggil Fungsi\n",
        "cetak(\"wokee\")"
      ],
      "outputs": [
        {
          "output_type": "stream",
          "name": "stdout",
          "text": [
            "wokee\n"
          ]
        }
      ],
      "metadata": {
        "colab": {
          "base_uri": "https://localhost:8080/"
        },
        "id": "ywDbPVukTDYd",
        "outputId": "e0f7ea03-86eb-4d3d-b4cb-581a6560bb7b"
      }
    },
    {
      "cell_type": "code",
      "execution_count": 10,
      "source": [
        "# Deklarasi Fungsi dengan pengembalian\n",
        "def tambah(a, b):\n",
        "  return a + b;\n",
        "\n",
        "# Memanggil Fungsi\n",
        "print(tambah(2, 3))"
      ],
      "outputs": [
        {
          "output_type": "stream",
          "name": "stdout",
          "text": [
            "5\n"
          ]
        }
      ],
      "metadata": {
        "colab": {
          "base_uri": "https://localhost:8080/"
        },
        "id": "RipUgd0NTdjo",
        "outputId": "344ba08b-ccbc-4b78-f2c7-6c43f7457963"
      }
    },
    {
      "cell_type": "code",
      "execution_count": 11,
      "source": [
        "def nama_fungsi(arg1, arg2, ...):\n",
        "  # isi fungsi\n",
        "\n",
        "def fungsi_dengan_pengembalian(arg1, arg2, ...):\n",
        "  # isi fungsi\n",
        "  return 'sesuatu'"
      ],
      "outputs": [
        {
          "output_type": "error",
          "ename": "SyntaxError",
          "evalue": "invalid syntax (3492601559.py, line 1)",
          "traceback": [
            "\u001b[0;36m  File \u001b[0;32m\"/var/folders/lv/d6trh5kd6hs66zmby5_j3z0w0000gn/T/ipykernel_7785/3492601559.py\"\u001b[0;36m, line \u001b[0;32m1\u001b[0m\n\u001b[0;31m    def nama_fungsi(arg1, arg2, ...):\u001b[0m\n\u001b[0m                                ^\u001b[0m\n\u001b[0;31mSyntaxError\u001b[0m\u001b[0;31m:\u001b[0m invalid syntax\n"
          ]
        }
      ],
      "metadata": {
        "id": "9r0oXaTxVRvi"
      }
    },
    {
      "cell_type": "markdown",
      "source": [
        "# **Method**"
      ],
      "metadata": {
        "id": "SLOP8yGkbpLO"
      }
    },
    {
      "cell_type": "code",
      "execution_count": null,
      "source": [
        "class NamaClass:\n",
        "  def nama_method(arg1, arg2, ...):\n",
        "    # isi method"
      ],
      "outputs": [],
      "metadata": {
        "id": "P_Z6c_AYWi71"
      }
    },
    {
      "cell_type": "code",
      "execution_count": null,
      "source": [
        "# Deklarasi Object (Class)\n",
        "class Kucing(object):\n",
        "  def meong(self):\n",
        "    print(\"meeooong\")\n",
        "\n",
        "# Memanggil method\n",
        "cat = Kucing()\n",
        "cat.meong()"
      ],
      "outputs": [],
      "metadata": {
        "colab": {
          "base_uri": "https://localhost:8080/"
        },
        "id": "uh927B9_W0N1",
        "outputId": "d01f409a-6bec-4a9a-c4fc-99db3c042834"
      }
    },
    {
      "cell_type": "markdown",
      "source": [
        "# **Lambda Expression**"
      ],
      "metadata": {
        "id": "3WbfqdEWbtsl"
      }
    },
    {
      "cell_type": "code",
      "execution_count": null,
      "source": [
        "# Lambda expression\n",
        "tambah = lambda a, b: (a + b)\n",
        "print(tambah(2, 3))"
      ],
      "outputs": [],
      "metadata": {
        "colab": {
          "base_uri": "https://localhost:8080/"
        },
        "id": "wmZuN2s7ZzAZ",
        "outputId": "41eafcb5-3e69-49eb-ada0-790b87fe9582"
      }
    },
    {
      "cell_type": "markdown",
      "source": [
        "# **Object Oriented Programming**"
      ],
      "metadata": {
        "id": "jxicmjLxkXCa"
      }
    },
    {
      "cell_type": "markdown",
      "source": [
        "## **Encapsulation**"
      ],
      "metadata": {
        "id": "K_u-Dtb6kcBm"
      }
    },
    {
      "cell_type": "code",
      "execution_count": null,
      "source": [
        "nama = \"cemong\"\n",
        "usia = 1\n",
        "warna = \"putih coklat muda\"\n",
        "jenis = \"anggora\"\n",
        "\n",
        "def meongg():\n",
        "  print(\"meeeoonnggg... \")\n",
        "\n",
        "def info_kucing(nama, usia, warna, jenis):\n",
        "  print(f\"nama: {nama}, usia: {usia}, warna: {warna}, jenis: {jenis}\")\n",
        "\n",
        "info_kucing(nama, usia, warna, jenis)\n",
        "\n",
        "\n",
        "class Kucing:\n",
        "  def __init__(self, nama, usia, warna, jenis):\n",
        "    self.nama = nama\n",
        "    self.usia = usia\n",
        "    self.warna = warna\n",
        "    self.jenis = jenis\n",
        "\n",
        "  def myfunc(self):\n",
        "    print(\"Hello my name is \" + self.nama)\n",
        "  \n",
        "  def meong(self):\n",
        "    print(\"meeeoonnggg... \")\n",
        "\n",
        "  def info(self):\n",
        "    print(f\"nama: {self.nama}, usia: {self.usia}, warna: {self.warna}, jenis: {self.jenis}\")\n",
        "\n",
        "\n",
        "kucing1 = Kucing(\"cemong\", 1, \"putih coklat muda\", \"anggora\")\n",
        "\n",
        "kucing1.info()"
      ],
      "outputs": [],
      "metadata": {
        "colab": {
          "base_uri": "https://localhost:8080/"
        },
        "id": "9-CEKFKYm2AA",
        "outputId": "a7c6cec8-7fb2-4ff3-b164-6b026ecaf78c"
      }
    },
    {
      "cell_type": "markdown",
      "source": [
        "## **Inheritence**"
      ],
      "metadata": {
        "id": "wBoEkCxewdrg"
      }
    },
    {
      "cell_type": "code",
      "execution_count": null,
      "source": [
        "class Binatang(object):\n",
        "  def __init__(self, nama, usia, jenis, mamalia):\n",
        "    self.nama = nama\n",
        "    self.usia = usia\n",
        "    self.jenis = jenis\n",
        "    self.mamalia = mamalia\n",
        "\n",
        "  def tidur(self, durasi):\n",
        "    for x in range(durasi):\n",
        "      print(\"ddrrr... ddrrr... \")\n",
        "\n",
        "  def info(self):\n",
        "    print(f\"nama: {self.nama}, usia: {self.usia}, jenis: {self.jenis}, mamalia: {self.mamalia}\")\n",
        "\n",
        "\n",
        "animal1 = Binatang(\"cemong\", 1, \"omnivora\", True)\n",
        "\n",
        "animal1.info()\n",
        "\n",
        "class Kucing(Binatang):\n",
        "  def __init__(self,  nama, usia, jenis, mamalia, warna, jenis_kucing):\n",
        "    super().__init__(nama, usia, jenis, mamalia)\n",
        "    self.warna = warna\n",
        "    self.jenis_kucing = jenis_kucing\n",
        "  \n",
        "  def meong(self):\n",
        "    print(\"meeeonnggg\")\n",
        "\n",
        "  def info_kucing(self):\n",
        "    print(f\"warna: {self.warna}, jenis kucing: {self.jenis_kucing}\")\n",
        "\n",
        "cat1 = Kucing(\"cemong\", 1, \"omnivora\", True, \"putih coklat muda\", \"anggora\")\n",
        "\n",
        "cat1.info()\n",
        "cat1.info_kucing()"
      ],
      "outputs": [],
      "metadata": {
        "colab": {
          "base_uri": "https://localhost:8080/"
        },
        "id": "HsVgKNgowiRP",
        "outputId": "eb243b37-c25c-47b3-a01f-6b1718a3959f"
      }
    },
    {
      "cell_type": "markdown",
      "source": [
        "## **Abstraction**"
      ],
      "metadata": {
        "id": "Xpt9Lz6vqN-z"
      }
    },
    {
      "cell_type": "code",
      "execution_count": null,
      "source": [
        "from abc import abstractmethod, ABC"
      ],
      "outputs": [],
      "metadata": {
        "id": "3qd9aXFIbajY"
      }
    },
    {
      "cell_type": "code",
      "execution_count": null,
      "source": [
        "class Absclass(ABC):\n",
        "    def print(self,x):\n",
        "        print(\"Passed value: \", x)\n",
        "    \n",
        "    @abstractmethod\n",
        "    def task(self):\n",
        "        pass\n",
        "\n",
        "        \n",
        "class test_class(Absclass):\n",
        "    def task(self):\n",
        "        print(\"We are inside test_class task\")\n",
        "        \n",
        "        \n",
        "class example_class(Absclass):\n",
        "    def task(self):\n",
        "        print(\"We are inside example_class task\")\n",
        "\n",
        "\n",
        "#object of test_class created\n",
        "test_obj = test_class()\n",
        "test_obj.task()\n",
        "test_obj.print(100)\n",
        "\n",
        "\n",
        "#object of example_class created\n",
        "example_obj = example_class()\n",
        "example_obj.task()\n",
        "example_obj.print(200)\n",
        " \n",
        "print(\"test_obj is instance of Absclass? \", isinstance(test_obj, Absclass))\n",
        "print(\"example_obj is instance of Absclass? \", isinstance(example_obj, Absclass))"
      ],
      "outputs": [],
      "metadata": {
        "colab": {
          "base_uri": "https://localhost:8080/"
        },
        "id": "fwa_TEf-v_8f",
        "outputId": "80f145b1-e701-416e-ec63-f09e22f1d235"
      }
    },
    {
      "cell_type": "markdown",
      "source": [
        "## **Polymorphism**"
      ],
      "metadata": {
        "id": "lLLHjBNp1HDe"
      }
    },
    {
      "cell_type": "code",
      "execution_count": null,
      "source": [
        "class Ikan(Binatang):\n",
        "  def __init__(self,  nama, usia, jenis, mamalia, warna, jenis_air, jenis_ikan):\n",
        "    super().__init__(nama, usia, jenis, mamalia)\n",
        "    self.warna = warna\n",
        "    self.jenis_air = jenis_air\n",
        "    self.jenis_ikan = jenis_ikan\n",
        "  \n",
        "  def berenang(self, durasi):\n",
        "    print(\"wushh... wush... \")\n",
        "\n",
        "  def info_ikan(self):\n",
        "    print(f\"warna: {self.warna}, jenis ikan: {self.jenis_ikan}, jenis air: {self.jenis_air}\")\n",
        "\n",
        "fish1 = Ikan(\"Jago\", 2, \"omnivora\", False, \"Merah Putih\", \"Tawar\", \"Cupang\")\n",
        "\n",
        "fish1.info()\n",
        "fish1.info_ikan()\n",
        "fish1.tidur(5)"
      ],
      "outputs": [],
      "metadata": {
        "colab": {
          "base_uri": "https://localhost:8080/"
        },
        "id": "BZLA6LDrxDHr",
        "outputId": "3c09f462-8796-450f-9a3f-9bf954043c34"
      }
    },
    {
      "cell_type": "markdown",
      "source": [
        "## **Activity OOP**\n",
        "\n",
        "Buatlah 3 OOP beserta turunannya dari objek sekitar, buat ulang seperti yang diatas (encapsulation, abstaction, inheritance, polymorphism)"
      ],
      "metadata": {
        "id": "bse6mJ62GOR1"
      }
    },
    {
      "cell_type": "markdown",
      "source": [
        "# **Time Complexity**\n",
        "## Activity \n",
        "\n",
        "Hitung time complexity dengan bigO Notation pada algoritma berikut:\n",
        "\n",
        "* Tidak perlu di run"
      ],
      "metadata": {
        "id": "xf3ylfGtB8qY"
      }
    },
    {
      "cell_type": "code",
      "execution_count": 12,
      "source": [
        "# 1\n",
        "\n",
        "arr = [1, 2, 3, 4, 5]\n",
        "\n",
        "print(arr[0])\n",
        "print(arr[1])"
      ],
      "outputs": [
        {
          "output_type": "stream",
          "name": "stdout",
          "text": [
            "1\n",
            "2\n"
          ]
        }
      ],
      "metadata": {
        "colab": {
          "base_uri": "https://localhost:8080/"
        },
        "id": "fnk4oJoJCJJG",
        "outputId": "1f115158-3225-4892-9bd6-956847d9f3e9"
      }
    },
    {
      "cell_type": "code",
      "execution_count": 13,
      "source": [
        "# 2\n",
        "\n",
        "print(arr[2])\n",
        "for number in arr:\n",
        "  print(number)\n",
        "print(arr[1])\n",
        "print(arr[2])"
      ],
      "outputs": [
        {
          "output_type": "stream",
          "name": "stdout",
          "text": [
            "3\n",
            "1\n",
            "2\n",
            "3\n",
            "4\n",
            "5\n",
            "2\n",
            "3\n"
          ]
        }
      ],
      "metadata": {
        "colab": {
          "base_uri": "https://localhost:8080/"
        },
        "id": "LCgmhC-qD0p2",
        "outputId": "e42e5d80-08a0-49f2-fa9d-bc5e05a50ab9"
      }
    },
    {
      "cell_type": "code",
      "execution_count": 14,
      "source": [
        "# 3\n",
        "\n",
        "arr2 = [6, 7, 8, 9, 10]\n",
        "\n",
        "for number in arr:\n",
        "  print(number)\n",
        "for number in arr2:\n",
        "  print(number)\n",
        "print(arr2[4])"
      ],
      "outputs": [
        {
          "output_type": "stream",
          "name": "stdout",
          "text": [
            "1\n",
            "2\n",
            "3\n",
            "4\n",
            "5\n",
            "6\n",
            "7\n",
            "8\n",
            "9\n",
            "10\n",
            "10\n"
          ]
        }
      ],
      "metadata": {
        "colab": {
          "base_uri": "https://localhost:8080/"
        },
        "id": "w5Upv3LdECFO",
        "outputId": "79c31702-9742-4125-a69c-c3ff9bf28221"
      }
    },
    {
      "cell_type": "code",
      "execution_count": 15,
      "source": [
        "# 4\n",
        "\n",
        "print(arr2[1])\n",
        "for number in arr:\n",
        "  print(number)\n",
        "for number in arr:\n",
        "  print(number)"
      ],
      "outputs": [
        {
          "output_type": "stream",
          "name": "stdout",
          "text": [
            "7\n",
            "1\n",
            "2\n",
            "3\n",
            "4\n",
            "5\n",
            "1\n",
            "2\n",
            "3\n",
            "4\n",
            "5\n"
          ]
        }
      ],
      "metadata": {
        "colab": {
          "base_uri": "https://localhost:8080/"
        },
        "id": "yXtKHziAEghO",
        "outputId": "eae70583-788f-47c3-eb02-e2c84de0e750"
      }
    },
    {
      "cell_type": "code",
      "execution_count": 16,
      "source": [
        "# 5\n",
        "\n",
        "for number in arr:\n",
        "  for number2 in arr2:\n",
        "    print(number+number2)\n",
        "print(arr[1]+arr2[1])\n",
        "print(arr2[2])"
      ],
      "outputs": [
        {
          "output_type": "stream",
          "name": "stdout",
          "text": [
            "7\n",
            "8\n",
            "9\n",
            "10\n",
            "11\n",
            "8\n",
            "9\n",
            "10\n",
            "11\n",
            "12\n",
            "9\n",
            "10\n",
            "11\n",
            "12\n",
            "13\n",
            "10\n",
            "11\n",
            "12\n",
            "13\n",
            "14\n",
            "11\n",
            "12\n",
            "13\n",
            "14\n",
            "15\n",
            "9\n",
            "8\n"
          ]
        }
      ],
      "metadata": {
        "colab": {
          "base_uri": "https://localhost:8080/"
        },
        "id": "9dXVL-S9EzxT",
        "outputId": "1f42f558-cc9f-4c53-854b-93b2d58fd210"
      }
    },
    {
      "cell_type": "code",
      "execution_count": 17,
      "source": [
        "# 6 \n",
        "\n",
        "for number in arr:\n",
        "  for number2 in arr:\n",
        "    print(number+number2)\n",
        "print(arr)"
      ],
      "outputs": [
        {
          "output_type": "stream",
          "name": "stdout",
          "text": [
            "2\n",
            "3\n",
            "4\n",
            "5\n",
            "6\n",
            "3\n",
            "4\n",
            "5\n",
            "6\n",
            "7\n",
            "4\n",
            "5\n",
            "6\n",
            "7\n",
            "8\n",
            "5\n",
            "6\n",
            "7\n",
            "8\n",
            "9\n",
            "6\n",
            "7\n",
            "8\n",
            "9\n",
            "10\n",
            "[1, 2, 3, 4, 5]\n"
          ]
        }
      ],
      "metadata": {
        "colab": {
          "base_uri": "https://localhost:8080/"
        },
        "id": "6SC68I3PFFge",
        "outputId": "d0285079-34e4-48c0-fe16-a12bafd1206c"
      }
    },
    {
      "cell_type": "code",
      "execution_count": 18,
      "source": [
        "# 7 \n",
        "\n",
        "for number in arr:\n",
        "  for number2 in arr2:\n",
        "    for number3 in arr:\n",
        "      print(number+number2+number3)\n",
        "print(arr[1])\n",
        "print(arr2[2])\n",
        "print(arr2[3])\n"
      ],
      "outputs": [
        {
          "output_type": "stream",
          "name": "stdout",
          "text": [
            "8\n",
            "9\n",
            "10\n",
            "11\n",
            "12\n",
            "9\n",
            "10\n",
            "11\n",
            "12\n",
            "13\n",
            "10\n",
            "11\n",
            "12\n",
            "13\n",
            "14\n",
            "11\n",
            "12\n",
            "13\n",
            "14\n",
            "15\n",
            "12\n",
            "13\n",
            "14\n",
            "15\n",
            "16\n",
            "9\n",
            "10\n",
            "11\n",
            "12\n",
            "13\n",
            "10\n",
            "11\n",
            "12\n",
            "13\n",
            "14\n",
            "11\n",
            "12\n",
            "13\n",
            "14\n",
            "15\n",
            "12\n",
            "13\n",
            "14\n",
            "15\n",
            "16\n",
            "13\n",
            "14\n",
            "15\n",
            "16\n",
            "17\n",
            "10\n",
            "11\n",
            "12\n",
            "13\n",
            "14\n",
            "11\n",
            "12\n",
            "13\n",
            "14\n",
            "15\n",
            "12\n",
            "13\n",
            "14\n",
            "15\n",
            "16\n",
            "13\n",
            "14\n",
            "15\n",
            "16\n",
            "17\n",
            "14\n",
            "15\n",
            "16\n",
            "17\n",
            "18\n",
            "11\n",
            "12\n",
            "13\n",
            "14\n",
            "15\n",
            "12\n",
            "13\n",
            "14\n",
            "15\n",
            "16\n",
            "13\n",
            "14\n",
            "15\n",
            "16\n",
            "17\n",
            "14\n",
            "15\n",
            "16\n",
            "17\n",
            "18\n",
            "15\n",
            "16\n",
            "17\n",
            "18\n",
            "19\n",
            "12\n",
            "13\n",
            "14\n",
            "15\n",
            "16\n",
            "13\n",
            "14\n",
            "15\n",
            "16\n",
            "17\n",
            "14\n",
            "15\n",
            "16\n",
            "17\n",
            "18\n",
            "15\n",
            "16\n",
            "17\n",
            "18\n",
            "19\n",
            "16\n",
            "17\n",
            "18\n",
            "19\n",
            "20\n",
            "2\n",
            "8\n",
            "9\n"
          ]
        }
      ],
      "metadata": {
        "colab": {
          "base_uri": "https://localhost:8080/"
        },
        "id": "b7w1_oXnGXfs",
        "outputId": "b800ae4a-6b5a-4490-f927-397eaf3e8624"
      }
    },
    {
      "cell_type": "code",
      "execution_count": null,
      "source": [
        "# 8\n",
        "\n",
        "for number in arr:\n",
        "  print(number)\n",
        "print(arr2)\n",
        "for number in arr:\n",
        "  for number2 in arr2:\n",
        "    print(number+number2)\n",
        "print(arr)"
      ],
      "outputs": [],
      "metadata": {
        "colab": {
          "base_uri": "https://localhost:8080/"
        },
        "id": "Cm1Hcy3JG6sh",
        "outputId": "42cedfc8-f51f-4783-fd10-4a45d6aab0af"
      }
    },
    {
      "cell_type": "code",
      "execution_count": 29,
      "source": [
        "# 9 \n",
        "# algoritma bubble sort\n",
        "\n",
        "n = len(arr)\n",
        "\n",
        "for i in range(n-1):\n",
        "\n",
        "    for j in range(0, n-i-1):\n",
        "\n",
        "        if arr[j] > arr[j+1]:\n",
        "            arr[j], arr[j+1] = arr[j + 1], arr[j]\n",
        "\n",
        "print(arr)\n",
        "\n"
      ],
      "outputs": [
        {
          "output_type": "stream",
          "name": "stdout",
          "text": [
            "[1, 2, 3, 4, 5]\n"
          ]
        }
      ],
      "metadata": {
        "id": "EgpO69yqHJ3K"
      }
    },
    {
      "cell_type": "code",
      "execution_count": 38,
      "source": [
        "l = [114, 110, 77, 112, 65, 80, 80, 90, 113, 109, 110, 86, 108, 85, 87, 65,90, 95, 109]\n",
        "x = 109 # elemen yang dicari\n",
        "idx = -1 # posisi elemen yang dicari\n",
        "\n",
        "for i in range(len(l)):\n",
        "  if l[i] == x:\n",
        "    idx = i\n",
        "    break\n",
        "\n",
        "if idx == -1:\n",
        "  print('Nilai ',x,'tidak ditemukan')\n",
        "else:\n",
        "  print('Nilai',x,'ditemukan pada indeks',idx)"
      ],
      "outputs": [
        {
          "output_type": "stream",
          "name": "stdout",
          "text": [
            "Nilai 109 ditemukan pada indeks 9\n"
          ]
        }
      ],
      "metadata": {
        "id": "qD9VauTyG_RJ"
      }
    },
    {
      "cell_type": "code",
      "execution_count": null,
      "source": [
        "# 11\n",
        "\n",
        "# algoritma binary search"
      ],
      "outputs": [],
      "metadata": {
        "id": "OaKrQWZJH28k"
      }
    }
  ]
}