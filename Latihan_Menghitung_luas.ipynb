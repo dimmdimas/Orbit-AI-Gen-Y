{
  "nbformat": 4,
  "nbformat_minor": 2,
  "metadata": {
    "colab": {
      "name": "Menghitungluas.ipynb",
      "provenance": [],
      "collapsed_sections": []
    },
    "kernelspec": {
      "name": "python3",
      "display_name": "Python 3.9.6 64-bit"
    },
    "language_info": {
      "name": "python",
      "version": "3.9.6",
      "mimetype": "text/x-python",
      "codemirror_mode": {
        "name": "ipython",
        "version": 3
      },
      "pygments_lexer": "ipython3",
      "nbconvert_exporter": "python",
      "file_extension": ".py"
    },
    "interpreter": {
      "hash": "aee8b7b246df8f9039afb4144a1f6fd8d2ca17a180786b69acc140d282b71a49"
    }
  },
  "cells": [
    {
      "cell_type": "code",
      "execution_count": 1,
      "source": [
        "print(\"MENGHITUNG LUAS TRAPESIUM\")\n",
        "\n",
        "panjang_sisi_atas = float(input(\"Masukkan panjang sisi dalam cm: \"))\n",
        "panjang_sisi_bawah = float(input(\"Masukkan panjang sisi dalam cm: \"))\n",
        "tinggi_trapesium = float(input(\"Masukkan tinggi dalam cm: \"))\n",
        "\n",
        "luas_trapesium = 0.5 * (panjang_sisi_atas+panjang_sisi_bawah) * tinggi_trapesium\n",
        "\n",
        "print(\"Jadi luas trapesium ialah\", luas_trapesium) \n"
      ],
      "outputs": [
        {
          "output_type": "stream",
          "name": "stdout",
          "text": [
            "MENGHITUNG LUAS TRAPESIUM\n",
            "Jadi luas trapesium ialah 1.5\n"
          ]
        }
      ],
      "metadata": {
        "colab": {
          "base_uri": "https://localhost:8080/"
        },
        "id": "sLDbZlan1F0t",
        "outputId": "8582b07b-4bf3-4156-d55d-6c41503d74c7"
      }
    },
    {
      "cell_type": "code",
      "execution_count": 2,
      "source": [
        "print(\"MENGHITUNG LUAS KUBUS\")\n",
        "print(\"======================\")\n",
        "\n",
        "panjang_sisi = int(input(\"Masukkan panjang sisi dalam cm: \"))\n",
        "\n",
        "luas_kubus = 6 * (panjang_sisi * panjang_sisi)\n",
        "\n",
        "print(\"Jadi Luas Kubus ialah\", luas_kubus, \"cm\")\n",
        "\n",
        "print(\"======================\")\n",
        "\n",
        "volume_kubus = panjang_sisi * panjang_sisi * panjang_sisi\n",
        "\n",
        "print(\"Jadi volume kubus ialah\", volume_kubus, \"cm\")"
      ],
      "outputs": [
        {
          "output_type": "stream",
          "name": "stdout",
          "text": [
            "MENGHITUNG LUAS KUBUS\n",
            "======================\n",
            "Jadi Luas Kubus ialah 54 cm\n",
            "======================\n",
            "Jadi volume kubus ialah 27 cm\n"
          ]
        }
      ],
      "metadata": {
        "colab": {
          "base_uri": "https://localhost:8080/"
        },
        "id": "XbBHDoex_Dqv",
        "outputId": "a4a51c3d-18b0-4067-a81b-6514035c8e6b"
      }
    }
  ]
}