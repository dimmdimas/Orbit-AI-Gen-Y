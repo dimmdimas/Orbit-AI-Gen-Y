{
  "nbformat": 4,
  "nbformat_minor": 2,
  "metadata": {
    "colab": {
      "name": "Adelia__Import_data.ipynb",
      "private_outputs": true,
      "provenance": [],
      "collapsed_sections": []
    },
    "kernelspec": {
      "name": "python3",
      "display_name": "Python 3.9.6 64-bit"
    },
    "language_info": {
      "name": "python",
      "version": "3.9.6",
      "mimetype": "text/x-python",
      "codemirror_mode": {
        "name": "ipython",
        "version": 3
      },
      "pygments_lexer": "ipython3",
      "nbconvert_exporter": "python",
      "file_extension": ".py"
    },
    "interpreter": {
      "hash": "aee8b7b246df8f9039afb4144a1f6fd8d2ca17a180786b69acc140d282b71a49"
    }
  },
  "cells": [
    {
      "cell_type": "markdown",
      "source": [
        "Cara untuk import data kedalam Colab"
      ],
      "metadata": {
        "id": "3jB481h4XjEk"
      }
    },
    {
      "cell_type": "markdown",
      "source": [
        "Buka koneksi ke drive setelah sebelum menaruh file data ke dalam drive milik anda"
      ],
      "metadata": {
        "id": "Xz4TOZe0XvqN"
      }
    },
    {
      "cell_type": "code",
      "execution_count": 2,
      "source": [
        "from google.colab import drive\n",
        "drive.mount('/content/drive')"
      ],
      "outputs": [
        {
          "output_type": "error",
          "ename": "ModuleNotFoundError",
          "evalue": "No module named 'google.colab'",
          "traceback": [
            "\u001b[0;31m---------------------------------------------------------------------------\u001b[0m",
            "\u001b[0;31mModuleNotFoundError\u001b[0m                       Traceback (most recent call last)",
            "\u001b[0;32m/var/folders/lv/d6trh5kd6hs66zmby5_j3z0w0000gn/T/ipykernel_3570/1408506528.py\u001b[0m in \u001b[0;36m<module>\u001b[0;34m\u001b[0m\n\u001b[0;32m----> 1\u001b[0;31m \u001b[0;32mfrom\u001b[0m \u001b[0mgoogle\u001b[0m\u001b[0;34m.\u001b[0m\u001b[0mcolab\u001b[0m \u001b[0;32mimport\u001b[0m \u001b[0mdrive\u001b[0m\u001b[0;34m\u001b[0m\u001b[0;34m\u001b[0m\u001b[0m\n\u001b[0m\u001b[1;32m      2\u001b[0m \u001b[0mdrive\u001b[0m\u001b[0;34m.\u001b[0m\u001b[0mmount\u001b[0m\u001b[0;34m(\u001b[0m\u001b[0;34m'/content/drive'\u001b[0m\u001b[0;34m)\u001b[0m\u001b[0;34m\u001b[0m\u001b[0;34m\u001b[0m\u001b[0m\n",
            "\u001b[0;31mModuleNotFoundError\u001b[0m: No module named 'google.colab'"
          ]
        }
      ],
      "metadata": {
        "id": "ISo__xJNTLrn"
      }
    },
    {
      "cell_type": "markdown",
      "source": [
        "Upload data dari gdrive"
      ],
      "metadata": {
        "id": "SP3eCfg6Yq1O"
      }
    },
    {
      "cell_type": "code",
      "execution_count": null,
      "source": [
        "import pandas as pd\n",
        "pd.read_csv('/content/drive/MyDrive/orbit/jabar - jabar.csv')"
      ],
      "outputs": [],
      "metadata": {
        "id": "UXPm7VqJYG-8"
      }
    },
    {
      "cell_type": "markdown",
      "source": [
        "Import data dari local"
      ],
      "metadata": {
        "id": "SJGcJ5sahhAd"
      }
    },
    {
      "cell_type": "code",
      "execution_count": null,
      "source": [
        "from google.colab import files\n",
        "uploaded = files.upload()"
      ],
      "outputs": [],
      "metadata": {
        "id": "RMVWHZSBiUH3"
      }
    },
    {
      "cell_type": "markdown",
      "source": [],
      "metadata": {
        "id": "6hz8HsWdzbId"
      }
    },
    {
      "cell_type": "markdown",
      "source": [
        "Display data"
      ],
      "metadata": {
        "id": "5Gny1nwsiyH5"
      }
    },
    {
      "cell_type": "code",
      "execution_count": null,
      "source": [
        "import pandas as pd\n",
        "pd.read_csv('/content/drive/MyDrive/orbit/jabar - jabar.csv')"
      ],
      "outputs": [],
      "metadata": {
        "id": "Brh1oKo0i1uL"
      }
    }
  ]
}