{
  "nbformat": 4,
  "nbformat_minor": 2,
  "metadata": {
    "colab": {
      "name": "Latihan_2_Orbit_Gen_Y.ipynb",
      "provenance": [],
      "authorship_tag": "ABX9TyMieXjMIGWzrM/zzvEpmEU5",
      "include_colab_link": true
    },
    "kernelspec": {
      "name": "python3",
      "display_name": "Python 3.9.6 64-bit"
    },
    "language_info": {
      "name": "python",
      "version": "3.9.6",
      "mimetype": "text/x-python",
      "codemirror_mode": {
        "name": "ipython",
        "version": 3
      },
      "pygments_lexer": "ipython3",
      "nbconvert_exporter": "python",
      "file_extension": ".py"
    },
    "interpreter": {
      "hash": "aee8b7b246df8f9039afb4144a1f6fd8d2ca17a180786b69acc140d282b71a49"
    }
  },
  "cells": [
    {
      "cell_type": "markdown",
      "source": [
        "<a href=\"https://colab.research.google.com/github/dimmdimas/Orbit-AI-Gen-Y/blob/main/Latihan_2_Orbit_Gen_Y.ipynb\" target=\"_parent\"><img src=\"https://colab.research.google.com/assets/colab-badge.svg\" alt=\"Open In Colab\"/></a>"
      ],
      "metadata": {
        "id": "view-in-github",
        "colab_type": "text"
      }
    },
    {
      "cell_type": "markdown",
      "source": [
        "Nomor 1\n",
        "Variabel\n",
        "---\n",
        "\n",
        "Tempat untuk menyimpan data dengan tipe tertentu"
      ],
      "metadata": {
        "id": "HEg_YAxOfktW"
      }
    },
    {
      "cell_type": "markdown",
      "source": [
        "Nomor 2\n",
        "Tipe Data\n",
        "---\n",
        "\n",
        "    1.  String  = 'abcdefghi'\n",
        "    2.  Integer = 1234567890\n",
        "    3.  Float   = 3.5 , 8.4\n",
        "    4.  Boolean = False, True "
      ],
      "metadata": {}
    },
    {
      "cell_type": "code",
      "execution_count": 1,
      "source": [
        "nama = 'Muhammad Dimas Renaldi' #String\n",
        "umur = 18   #Integer\n",
        "berat_badan = 48.50 # Float\n",
        "status_pernikahan = False   #Boolean\n",
        "\n",
        "print(\"Nama                : \", nama)\n",
        "print(\"Umur                : \", umur, \"Tahun\")\n",
        "print(\"Berat Badan         : \", berat_badan)\n",
        "print(\"Status Pernikahan   : \", status_pernikahan)"
      ],
      "outputs": [
        {
          "output_type": "stream",
          "name": "stdout",
          "text": [
            "Nama                :  Muhammad Dimas Renaldi\n",
            "Umur                :  18 Tahun\n",
            "Berat Badan         :  48.5\n",
            "Status Pernikahan   :  False\n"
          ]
        }
      ],
      "metadata": {}
    },
    {
      "cell_type": "markdown",
      "source": [
        "Nomor 3\n",
        "Tipe data turunan\n",
        "---\n",
        "\n",
        "    1.  Array \n",
        "    2.  List        = Value / nilai dalam list boleh memiliki tipe data yang berbeda\n",
        "    3.  Tupple      = isi nya tidak bisa diubah\n",
        "    4.  Dictionary  = Tipe data yang memiliki key dan value\n",
        "    5.  Set         = Tipe data yang tidak ada data duplikat di dalamnya dan sudah terurut\n",
        "    6.  File"
      ],
      "metadata": {}
    },
    {
      "cell_type": "code",
      "execution_count": 21,
      "source": [
        "import array as arr\n",
        "\n",
        "print(' ')\n",
        "print('=========== Array ===========')\n",
        "print(' ')\n",
        "\n",
        "apapun_array = arr.array(\"I\", [1,4,8,12,16])\n",
        "print (apapun_array)\n",
        "\n",
        "bilangan_kelipatan_tiga = arr.array('I', [1,3,21,9])\n",
        "print(bilangan_kelipatan_tiga)\n",
        "\n",
        "print(' ')\n",
        "print('=========== List ===========')\n",
        "print(' ')\n",
        "\n",
        "apapun_list = [\"satu\", 2, 3, 4.5, True]\n",
        "print (apapun_list)\n",
        "\n",
        "print(' ')\n",
        "print('=========== Tupple ===========')\n",
        "print(' ')\n",
        "\n",
        "#apapun_tupple = (1,2,3,4,5)\n",
        "apapun_tupple = [1,2,3,4,5]\n",
        "#apapun_tupple[0] = -100          ===  tidak bisa diubah nilai nya ===\n",
        "print(apapun_tupple)\n",
        "\n",
        "print(' ')\n",
        "print('=========== Dictionary ===========')\n",
        "print(' ')\n",
        "\n",
        "mahasiswa = {\n",
        "    'nama': \"Muhammad Dimas Renaldi\",\n",
        "    'umur': 18,\n",
        "    'berat_badan': 48.8,\n",
        "    'status_pernikahan': False\n",
        "}\n",
        "\n",
        "print(mahasiswa['nama'])\n",
        "print(mahasiswa['umur'])\n",
        "print(mahasiswa['berat_badan'])\n",
        "print(mahasiswa['status_pernikahan'])\n",
        "\n",
        "print(' ')\n",
        "print('=========== Set ===========')\n",
        "print(' ')\n",
        "\n",
        "nama = \"Dimas\"\n",
        "nama = set(nama)\n",
        "set([2,4,24,4,5,56,6,0])"
      ],
      "outputs": [
        {
          "output_type": "stream",
          "name": "stdout",
          "text": [
            " \n",
            "=========== Array ===========\n",
            " \n",
            "array('I', [1, 4, 8, 12, 16])\n",
            "array('I', [1, 3, 21, 9])\n",
            " \n",
            "=========== List ===========\n",
            " \n",
            "['satu', 2, 3, 4.5, True]\n",
            " \n",
            "=========== Tupple ===========\n",
            " \n",
            "[1, 2, 3, 4, 5]\n",
            " \n",
            "=========== Dictionary ===========\n",
            " \n",
            "Muhammad Dimas Renaldi\n",
            "18\n",
            "48.8\n",
            "False\n",
            " \n",
            "=========== Set ===========\n",
            " \n"
          ]
        },
        {
          "output_type": "execute_result",
          "data": {
            "text/plain": [
              "{0, 2, 4, 5, 6, 24, 56}"
            ]
          },
          "metadata": {},
          "execution_count": 21
        }
      ],
      "metadata": {}
    },
    {
      "cell_type": "markdown",
      "source": [
        "mengakses array dan list\n",
        "----"
      ],
      "metadata": {}
    },
    {
      "cell_type": "code",
      "execution_count": 26,
      "source": [
        "angka_genap = [2,4,6,8,10, \"Dua Puluh\"]\n",
        "\n",
        "print(angka_genap[5])\n",
        "print(angka_genap[3])\n",
        "print(angka_genap[0])"
      ],
      "outputs": [
        {
          "output_type": "stream",
          "name": "stdout",
          "text": [
            "Dua Puluh\n",
            "8\n",
            "2\n"
          ]
        }
      ],
      "metadata": {}
    },
    {
      "cell_type": "markdown",
      "source": [
        "Nomor 4\n",
        "Operator\n",
        "---\n",
        "\n",
        "    1.  Operator Aritmatika\n",
        "    2.  Operator Perbandingan\n",
        "    3.  Operator Logika\n",
        "\n",
        "    "
      ],
      "metadata": {}
    },
    {
      "cell_type": "code",
      "execution_count": 27,
      "source": [
        "x = 10\n",
        "y = 5\n",
        "\n",
        "hasil_penjumlahan       = x + y\n",
        "hasil_pengurangan       = x - y\n",
        "hasil_perkalian         = x * y\n",
        "hasil_pembagian         = x / y\n",
        "hasil_modulus           = x % y\n",
        "hasil_floor_division    = x // y\n",
        "hasil_x_pangkat_y       = x ** y\n",
        "\n",
        "print(hasil_penjumlahan)\n",
        "print(hasil_pengurangan)\n",
        "print(hasil_perkalian)\n",
        "print(hasil_pembagian)\n",
        "print(hasil_modulus)\n",
        "print(hasil_floor_division)\n",
        "print(hasil_x_pangkat_y)"
      ],
      "outputs": [
        {
          "output_type": "stream",
          "name": "stdout",
          "text": [
            "15\n",
            "5\n",
            "50\n",
            "2.0\n",
            "0\n",
            "2\n",
            "100000\n"
          ]
        }
      ],
      "metadata": {}
    },
    {
      "cell_type": "markdown",
      "source": [
        "Nomor 5\n",
        "Percabangan\n",
        "---\n",
        "\n",
        "    1. if   = jika\n",
        "    2. elif = jika lainnya\n",
        "    3. else = lainnya\n",
        "\n",
        "    if..else\n",
        "    if..elif..else"
      ],
      "metadata": {}
    },
    {
      "cell_type": "code",
      "execution_count": 30,
      "source": [
        "nilai = 80\n",
        "\n",
        "print('niali = ',nilai)\n",
        "\n",
        "print(' ')\n",
        "print('== if..else === ')\n",
        "print(' ')\n",
        "\n",
        "\n",
        "if nilai > 75:\n",
        "    print(\"Anda Hebat\")\n",
        "else:\n",
        "    print(\"Silakan Mengulang\")\n",
        "\n",
        "print(' ')\n",
        "print('== if..elif..else === ')\n",
        "print(' ')\n",
        "\n",
        "if nilai>= 90:\n",
        "    print('Nilai = A')\n",
        "elif nilai >= 80:\n",
        "    print('Nilai B')\n",
        "elif nilai >= 70:\n",
        "    print('Nilai C')\n",
        "else:\n",
        "    print('Nilai D, Silakan mengulang')"
      ],
      "outputs": [
        {
          "output_type": "stream",
          "name": "stdout",
          "text": [
            "niali =  80\n",
            " \n",
            "== if..else === \n",
            " \n",
            "Anda Hebat\n",
            " \n",
            "== if..elif..else === \n",
            " \n",
            "Nilai B\n"
          ]
        }
      ],
      "metadata": {}
    }
  ]
}