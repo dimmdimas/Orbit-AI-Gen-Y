{
  "nbformat": 4,
  "nbformat_minor": 2,
  "metadata": {
    "interpreter": {
      "hash": "aee8b7b246df8f9039afb4144a1f6fd8d2ca17a180786b69acc140d282b71a49"
    },
    "kernelspec": {
      "name": "python3",
      "display_name": "Python 3.9.6 64-bit"
    },
    "language_info": {
      "codemirror_mode": {
        "name": "ipython",
        "version": 3
      },
      "file_extension": ".py",
      "mimetype": "text/x-python",
      "name": "python",
      "nbconvert_exporter": "python",
      "pygments_lexer": "ipython3",
      "version": "3.9.6"
    },
    "colab": {
      "name": "RB_05_Clean_Code.ipynb",
      "provenance": [],
      "collapsed_sections": []
    }
  },
  "cells": [
    {
      "cell_type": "markdown",
      "source": [
        "# Clean Code\n"
      ],
      "metadata": {
        "id": "fC7a-HmIj4kX"
      }
    },
    {
      "cell_type": "markdown",
      "source": [
        "## Input, Process, Output dataframe\n",
        "- Membuat DataFrame manual -> export ke csv dan xlsx (excel)\n",
        "- Latihan membuat DataFrame (Data 5 calon anggota koperasi sukanabung)"
      ],
      "metadata": {
        "id": "VWAAlTW_j4kg"
      }
    },
    {
      "cell_type": "code",
      "execution_count": null,
      "source": [
        "import pandas as pd"
      ],
      "outputs": [],
      "metadata": {
        "id": "UgB2RzV3j4kh"
      }
    },
    {
      "cell_type": "code",
      "execution_count": null,
      "source": [
        "df1 = pd.DataFrame([\n",
        "  [\"Andien\", \"P\", 21, \"Belum Menikah\"],\n",
        "  [\"Raka\", \"L\", 25, \"Belum Menikah\"],\n",
        "  [\"Bobby\", \"L\", 23, \"Sudah Menikah\"]\n",
        "])\n",
        "\n",
        "df1.columns = [\"Nama\", \"Jenis Kelamin\", \"Usia\", \"Status\"]\n",
        "\n",
        "df1"
      ],
      "outputs": [],
      "metadata": {
        "id": "cJmJnnCgj4kj",
        "colab": {
          "base_uri": "https://localhost:8080/",
          "height": 142
        },
        "outputId": "eff73dca-ae3e-44d0-9f2e-e8d343e08a3e"
      }
    },
    {
      "cell_type": "code",
      "execution_count": null,
      "source": [
        "df1.to_csv('./file/anggota_koperasi_sukanabung.csv')\n",
        "df1.to_excel('./file/anggota_koperasi_sukanabung.xlsx')"
      ],
      "outputs": [],
      "metadata": {
        "id": "ZbSGwYJHj4kn"
      }
    },
    {
      "cell_type": "markdown",
      "source": [
        "## Fungsi - Fungsi List pada Python\n",
        "- Quiz, studi kasus nyata"
      ],
      "metadata": {
        "id": "6_OwAS0Ij4ko"
      }
    },
    {
      "cell_type": "markdown",
      "source": [
        "- Bahas tentang fungsi yg ada di list (struktur data) dulu\n",
        "    - `append()`  # Menambahkan elemen di akhir list (hanya 1)\n",
        "    - `extend()`  # Menambahkan banyak elemen di akhir list\n",
        "    - `index()`   # Mencari index dari elemen tertentu yang ada di list\n",
        "    - `max(list)` # Mencari elemen terbesar dari list\n",
        "    - `min(list)` # Mencari elemen terkecil dari list\n",
        "    - `len(list)` # Menghitung jumlah elemen dalam list\n",
        "    - `clear()`   # Menghapus semua elemen dari list\n",
        "    - `insert()`  # Memasukkan elemen baru pada urutan tertentu\n",
        "    - `count()`   # Menghitung jumlah elemen dengan nilai tertentu\n",
        "    - `pop()`     # Menghapus elemen terakhir dari list\n",
        "    - `remove()`  # Menghapus elemen dengan nilai tertentu\n",
        "    - `reverse()` # Membalik urutan elemen dalam list\n",
        "    - `copy()`    # Menduplikat elemen dalam list ke dalam variabel baru\n",
        "    - `sort()`    # Mengurutkan (sorting)\n",
        "\n",
        "- TODO: Teori dan ilustrasi"
      ],
      "metadata": {
        "id": "MMU9bi85j4kp"
      }
    },
    {
      "cell_type": "code",
      "execution_count": null,
      "source": [
        "tumpukan_warna = ['Biru', 'Merah', 'Hijau', 'Ungu', 'Hitam']"
      ],
      "outputs": [],
      "metadata": {
        "id": "mCBAa00Yj4kq"
      }
    },
    {
      "cell_type": "code",
      "execution_count": null,
      "source": [
        "# append, menambahkan nilai di akhir list (hanya 1 nilai saja)\n",
        "tumpukan_warna.append('Jingga')\n",
        "tumpukan_warna"
      ],
      "outputs": [],
      "metadata": {
        "id": "CA4LTCM9j4kq",
        "colab": {
          "base_uri": "https://localhost:8080/"
        },
        "outputId": "9023c466-4698-464b-9969-5b3b5edff237"
      }
    },
    {
      "cell_type": "code",
      "execution_count": null,
      "source": [
        "# extend, menambahkan banyak elemen di akhir list\n",
        "tumpukan_warna.extend(['Putih', 'Tosca'])\n",
        "tumpukan_warna"
      ],
      "outputs": [],
      "metadata": {
        "id": "KuOZo1xvj4kr",
        "colab": {
          "base_uri": "https://localhost:8080/"
        },
        "outputId": "1289a09f-fc3f-4002-92fe-a18017547630"
      }
    },
    {
      "cell_type": "code",
      "execution_count": null,
      "source": [
        "# index, mencari index dari nilai tertentu yang ada di list\n",
        "tumpukan_warna.index('Hijau')"
      ],
      "outputs": [],
      "metadata": {
        "id": "ou_wwx7Hj4ks",
        "colab": {
          "base_uri": "https://localhost:8080/"
        },
        "outputId": "484ba4d2-ef63-4b87-ba00-51bb07372aed"
      }
    },
    {
      "cell_type": "code",
      "execution_count": null,
      "source": [
        "# min, mencari nilai terkecil dari list\n",
        "min(tumpukan_warna)"
      ],
      "outputs": [],
      "metadata": {
        "id": "E-ORjbcjj4ks",
        "colab": {
          "base_uri": "https://localhost:8080/",
          "height": 35
        },
        "outputId": "2e9b999e-3c8f-4150-9f3a-5a1d37fc39a6"
      }
    },
    {
      "cell_type": "code",
      "execution_count": null,
      "source": [
        "# max, mencari nilai terbesar dari list\n",
        "max(tumpukan_warna)"
      ],
      "outputs": [],
      "metadata": {
        "id": "i5BB2zL4j4kt",
        "colab": {
          "base_uri": "https://localhost:8080/",
          "height": 35
        },
        "outputId": "5bb40dd7-a3f8-4435-d659-7c2aff5f8849"
      }
    },
    {
      "cell_type": "code",
      "execution_count": null,
      "source": [
        "#sort, mengurutkan\n",
        "tumpukan_warna.sort()\n",
        "print(tumpukan_warna)"
      ],
      "outputs": [],
      "metadata": {
        "colab": {
          "base_uri": "https://localhost:8080/"
        },
        "id": "pmG6XlAEz7gz",
        "outputId": "e2028184-497d-41c6-f0d8-5e1c647456b3"
      }
    },
    {
      "cell_type": "code",
      "execution_count": null,
      "source": [
        "# clear, menghapus semua elemen dari list\n",
        "tumpukan_warna.clear()\n",
        "tumpukan_warna"
      ],
      "outputs": [],
      "metadata": {
        "id": "5CAsW7mnj4kt",
        "colab": {
          "base_uri": "https://localhost:8080/"
        },
        "outputId": "8a522a1f-0c52-4d39-da1e-cc6cf52c7119"
      }
    },
    {
      "cell_type": "code",
      "execution_count": null,
      "source": [
        "tumpukan_warna = ['Biru', 'Merah', 'Hijau', 'Ungu', 'Hitam']"
      ],
      "outputs": [],
      "metadata": {
        "id": "_Ur2NSuRj4ku"
      }
    },
    {
      "cell_type": "code",
      "execution_count": null,
      "source": [
        "# len, menghitung jumlah elemen dalam list\n",
        "len(tumpukan_warna)"
      ],
      "outputs": [],
      "metadata": {
        "id": "lHCXeJY0j4ku",
        "colab": {
          "base_uri": "https://localhost:8080/"
        },
        "outputId": "619f3e50-5b2e-4195-d6da-9b6ec6cc914d"
      }
    },
    {
      "cell_type": "code",
      "execution_count": null,
      "source": [
        "# insert, memasukkan elemen baru pada urutan tertentu\n",
        "tumpukan_warna.insert(0, 'Orange')\n",
        "tumpukan_warna"
      ],
      "outputs": [],
      "metadata": {
        "id": "KHsIpoXoj4ku",
        "colab": {
          "base_uri": "https://localhost:8080/"
        },
        "outputId": "e13cf178-0e17-4bf7-d3b1-f9f56915c23c"
      }
    },
    {
      "cell_type": "code",
      "execution_count": null,
      "source": [],
      "outputs": [],
      "metadata": {
        "id": "x0SDAY59xe3o"
      }
    },
    {
      "cell_type": "code",
      "execution_count": null,
      "source": [
        "# remove, menghapus elemen dengan nilai tertentu\n",
        "tumpukan_warna.remove('Orange')\n",
        "tumpukan_warna"
      ],
      "outputs": [],
      "metadata": {
        "id": "s9EpdW4Hj4kv",
        "colab": {
          "base_uri": "https://localhost:8080/"
        },
        "outputId": "934a7685-44ed-4ec5-e254-b3aad573df65"
      }
    },
    {
      "cell_type": "code",
      "execution_count": null,
      "source": [
        "# reverse, membalik urutan elemen dalam list\n",
        "tumpukan_warna.reverse()\n",
        "tumpukan_warna"
      ],
      "outputs": [],
      "metadata": {
        "id": "aKNVtL0Xj4kw",
        "colab": {
          "base_uri": "https://localhost:8080/"
        },
        "outputId": "478c6b6a-9403-4b0d-9ec6-3016402eb780"
      }
    },
    {
      "cell_type": "code",
      "execution_count": null,
      "source": [
        "# pop, menghapus elemen terakhir dari list\n",
        "tumpukan_warna.pop()\n",
        "tumpukan_warna"
      ],
      "outputs": [],
      "metadata": {
        "id": "Q9PQvEvzj4kx",
        "colab": {
          "base_uri": "https://localhost:8080/"
        },
        "outputId": "526ba4a6-f22b-42a1-82b8-8a1fd8ad7566"
      }
    },
    {
      "cell_type": "code",
      "execution_count": null,
      "source": [
        "# count, menghitung jumlah elemen dengan nilai tertentu\n",
        "tumpukan_warna.count('Hitam') # Coba ubah dengan nilai yang lain"
      ],
      "outputs": [],
      "metadata": {
        "id": "JsPQ94yGj4ky",
        "outputId": "93b828ad-5401-4066-93a6-b7688bb6da35"
      }
    },
    {
      "cell_type": "code",
      "execution_count": null,
      "source": [
        "# copy, menduplikat elemen dalam list ke dalam variabel baru\n",
        "tumpukan_warna2 = tumpukan_warna.copy()\n",
        "tumpukan_warna2"
      ],
      "outputs": [],
      "metadata": {
        "id": "k6p-NBKoj4kz",
        "outputId": "1c242420-458a-4c2c-ad38-aa289bfee367"
      }
    },
    {
      "cell_type": "code",
      "execution_count": null,
      "source": [
        "# Perbedaan fungsi copy dan re-assignment \n",
        "a = [1,2,3]\n",
        "\n",
        "\n",
        "# Isi b sama dengan a, tapi sebenarnya b hanya melakukan copy identitas objek a\n",
        "b = a\n",
        "c = a.copy()\n",
        "# Apabila a[0] kita ubah, maka b[0] pun berubah\n",
        "a[0] = 100\n",
        "\n",
        "# Fungsi id() dapat digunakan untuk mengetahui identitas dari suatu objek\n",
        "print(\"ID a:\", id(b))\n",
        "print(\"ID b:\", id(a))\n",
        "print(\"a:\", a)\n",
        "print(\"b:\", b)\n",
        "\n",
        "print(\"ID c:\", id(c))\n",
        "print(\"c:\", c)"
      ],
      "outputs": [],
      "metadata": {
        "id": "IUYtsmX2j4kz",
        "outputId": "f07ecde5-d4a9-49c4-fb11-3ed8c7e2b139"
      }
    },
    {
      "cell_type": "markdown",
      "source": [
        "## Stack (Tumpukan)"
      ],
      "metadata": {
        "id": "j_ibCI3qj4k0"
      }
    },
    {
      "cell_type": "code",
      "execution_count": null,
      "source": [
        "angka = [1,3,5,3,3,5]"
      ],
      "outputs": [],
      "metadata": {
        "id": "V1UTz9blj4k0"
      }
    },
    {
      "cell_type": "code",
      "execution_count": null,
      "source": [
        "# Stack -> First In Last Out\n",
        "lemari = [\"Sarung\", \"Celana Dasar\", \n",
        "        \"Kemeja Putih\", \"Selimut\"]\n",
        "lemari.append(\"Jaket Hoodie\")\n",
        "print(lemari)"
      ],
      "outputs": [],
      "metadata": {
        "id": "C3Ny4Gdnj4k0",
        "colab": {
          "base_uri": "https://localhost:8080/"
        },
        "outputId": "c6572c59-a881-4f01-bcd8-8ea05c5c2513"
      }
    },
    {
      "cell_type": "code",
      "execution_count": null,
      "source": [
        "# Stack -> First In Last Out\n",
        "lemari = [\"Sarung\", \"Celana Dasar\"\n",
        "          , \"Kemeja Putih\", \"Selimut\"\n",
        "          , \"Jaket Hoodie\"\n",
        "         ]\n",
        "\n",
        "lemari.pop()\n",
        "print(lemari)"
      ],
      "outputs": [],
      "metadata": {
        "id": "u9Knuyymj4k1",
        "outputId": "225ef6d3-cdb8-4794-e9f9-410e354eb7a4"
      }
    },
    {
      "cell_type": "markdown",
      "source": [
        "## Queue (read: qiu)\n",
        "- TODO: Teori dan ilustrasi"
      ],
      "metadata": {
        "id": "Ez0HhI01j4k1"
      }
    },
    {
      "cell_type": "code",
      "execution_count": null,
      "source": [
        "# Queue -> First in First Out\n",
        "antrian_vaksin = [\"Andy\", \"Bobby\", \n",
        "                  \"Caca\", \"Doni\",\n",
        "                  \"Erna\"\n",
        "                 ]\n",
        "antrian_vaksin.append(\"Fani\")\n",
        "print(antrian_vaksin)"
      ],
      "outputs": [],
      "metadata": {
        "id": "70DOHb6Rj4k2",
        "outputId": "55002ed0-b458-47bc-8067-1beec508f570"
      }
    },
    {
      "cell_type": "code",
      "execution_count": null,
      "source": [
        "antrian_vaksin = [\"Andy\", \"Bobby\", \n",
        "                  \"Caca\", \"Doni\",\n",
        "                  \"Erna\", \"Fani\"\n",
        "                 ]\n",
        "antrian_vaksin.pop(0)\n",
        "print(antrian_vaksin)"
      ],
      "outputs": [],
      "metadata": {
        "id": "IuVj-512j4k2",
        "outputId": "266094ab-c860-4c09-caab-3e29d6755c1a"
      }
    },
    {
      "cell_type": "markdown",
      "source": [
        "# Activity\n",
        "## 1. Code Refactoring\n",
        "### 1.1 Ubah gaya penulisan kode program berikut sesuai dengan standar PEP8"
      ],
      "metadata": {
        "id": "8Wk1mAaij4k2"
      }
    },
    {
      "cell_type": "code",
      "execution_count": 59,
      "source": [
        "# program untuk menghitung luas dan keliling lingkaran\n",
        "Pi = 3.14\n",
        "\n",
        "def HitungLuasLingkaran(jari_jari):\n",
        "    l = Pi * jari_jari**2\n",
        "    return l\n",
        "\n",
        "def HitungKelilingLingkaran(jari_jari):\n",
        "    kllng = 2 * Pi * jari_jari\n",
        "    return kllng\n",
        "\n",
        "def tampilkan_menu():\n",
        "    print('')\n",
        "    print(\"----------------------------------------------------\")\n",
        "    print( 'Program untuk menghitung luas dan keliling lingkaran')\n",
        "    print( 'Mau ngitung apa nih bre?')\n",
        "    print( '1. Luas Lingkaran')\n",
        "    print( '2. Keliling Lingkaran')\n",
        "    print( '3. Stop Program')\n",
        "    print('')\n",
        "\n",
        "\n",
        "pilihan = 'bukan 3'\n",
        "while pilihan != 3:\n",
        "    tampilkan_menu()\n",
        "    pil = input ('Pilihan:')\n",
        "\n",
        "    if pil=='1':\n",
        "        jari_jari = input('Jari Jari:')\n",
        "        jari_jari = float(jari_jari)\n",
        "        hasil = HitungLuasLingkaran(jari_jari)\n",
        "        print(\"Luas Lingkaran:\", hasil )\n",
        "\n",
        "    elif pil== '2':\n",
        "        jari_jari=input ('Jari Jari:')\n",
        "        jari_jari=float (jari_jari)\n",
        "        hsl=HitungKelilingLingkaran(jari_jari)\n",
        "        print(\"Keliling Lingkaran:\", hsl )\n",
        "\n",
        "    elif pil=='3':\n",
        "        print( \"TERIMA KASIH SUDAH MENGGUNAKAN PROGRAM KAMI\")\n",
        "        break\n",
        "\n",
        "    else:\n",
        "        print('Pilihan tidak tersedia')\n",
        "        tampilkan_menu ()"
      ],
      "outputs": [
        {
          "output_type": "stream",
          "name": "stdout",
          "text": [
            "\n",
            "----------------------------------------------------\n",
            "Program untuk menghitung luas dan keliling lingkaran\n",
            "Mau ngitung apa nih bre?\n",
            "1. Luas Lingkaran\n",
            "2. Keliling Lingkaran\n",
            "3. Stop Program\n",
            "\n",
            "Luas Lingkaran: 12.56\n",
            "\n",
            "----------------------------------------------------\n",
            "Program untuk menghitung luas dan keliling lingkaran\n",
            "Mau ngitung apa nih bre?\n",
            "1. Luas Lingkaran\n",
            "2. Keliling Lingkaran\n",
            "3. Stop Program\n",
            "\n",
            "TERIMA KASIH SUDAH MENGGUNAKAN PROGRAM KAMI\n"
          ]
        }
      ],
      "metadata": {
        "colab": {
          "base_uri": "https://localhost:8080/"
        },
        "id": "cWggYXtLuSwS",
        "outputId": "43562802-0a94-4c6e-f384-8e52b40784ed"
      }
    },
    {
      "cell_type": "markdown",
      "source": [
        "### 1.2 Ubah gaya penulisan kode program berikut sesuai dengan standar PEP8"
      ],
      "metadata": {
        "id": "EI3tFPZD3ejW"
      }
    },
    {
      "cell_type": "code",
      "execution_count": null,
      "source": [
        "# Main Layangan\n",
        "# Requirement:\n",
        "# - Gak Hujan\n",
        "# - Kecepatan Angin 5 - 30 km/s\n",
        "\n",
        "#Clues:\n",
        "# - Naming variable dan function, whitespace, komentar\n",
        "# - Terdapat kode duplikat, coba perbaiki\n",
        "\n",
        "def main_layangan():\n",
        "  hujan = input (\"lagi ujan ga? (y/n)\")\n",
        "  if hujan =='y' or hujan== 'Y':\n",
        "    hujan = True\n",
        "  else:\n",
        "    hujan =False\n",
        "\n",
        "  kecepatan__angin = int( input ('masukkan kecepatan angin'))\n",
        "\n",
        "  if hujan == True:\n",
        "    print('Gak bisa main layangan')\n",
        "    return False\n",
        "  else:\n",
        "    if kecepatan__angin >=5 and kecepatan__angin<= 30:\n",
        "      print( 'Asiik, gass main layangan')\n",
        "      return True\n",
        "    else:\n",
        "      print('Skip, mending main ep ep' )\n",
        "      return False\n",
        "\n",
        "capek = main_layangan()\n",
        "\n",
        "if capek ==True:\n",
        "  print(\"Istirahat\" )\n",
        "else:\n",
        "  print (\"Gass main ep ep\")"
      ],
      "outputs": [],
      "metadata": {
        "colab": {
          "base_uri": "https://localhost:8080/"
        },
        "id": "vqqf6y-oySiq",
        "outputId": "76c42650-089e-4bc0-cce1-88967b7b4fd4"
      }
    },
    {
      "cell_type": "markdown",
      "source": [
        "## 2. Memilih delegasi Tim Sudirman Cup dari Indonesia\n",
        "\n",
        "Berikut adalah data nama pemain bulu tangkis Indonesia beserta medali yang sudah diraih selama 2020 - 2021: \n"
      ],
      "metadata": {
        "id": "T_62CS4pvl3O"
      }
    },
    {
      "cell_type": "code",
      "execution_count": null,
      "source": [
        "pemain_dan_medali = [[7, \"Ginting\"], [5, \"Jonathan C.\"], [9,\" Hendra\"], [9,\" Ahsan\"], [8, \"Markus\"], [8, \"Kevin\"], [4, \"Gregoria\"], \n",
        "                     [6, \"Praven\"], [6, \"Melati\"], [7, \"Greysia\"], [7, \"Apriani\"], [5, \"Putri\"], [5, \"Rian\"], [5, \"Fajar\"]]"
      ],
      "outputs": [],
      "metadata": {
        "id": "S-IH1y1Uj4k3"
      }
    },
    {
      "cell_type": "markdown",
      "source": [
        "> Buatlah program seleksi pemain bulu tangkis untuk Tim Sudirman dengan menerapkan konsep `Clean Code`"
      ],
      "metadata": {
        "id": "xmKFzuRgxB_S"
      }
    },
    {
      "cell_type": "code",
      "execution_count": 51,
      "source": [
        "pemain_dan_medali = [\n",
        "    [7, \"Ginting\"], [5, \"Jonathan C.\"], [9, \"Hendra\"], \n",
        "    [9, \"Ahsan\"], [8, \"Markus\"], [8, \"Kevin\"], [4, \"Gregoria\"],\n",
        "    [6, \"Praven\"], [6, \"Melati\"], [7, \"Greysia\"], [7, \"Apriani\"], \n",
        "    [5, \"Putri\"], [5, \"Rian\"], [5, \"Fajar\"]\n",
        "]"
      ],
      "outputs": [],
      "metadata": {
        "id": "dXKm2My10I5i"
      }
    },
    {
      "cell_type": "code",
      "execution_count": 56,
      "source": [
        "# Dengan looping, buatlah 2 list terpisah dari pemain dan juga medalinya, namun urutannya harus tetap sama dengan yang diatas\n",
        "pemain_dan_medali.sort()\n",
        "pemain = []\n",
        "medali = []\n",
        "\n",
        "for x in pemain_dan_medali:\n",
        "    pemain.append(x[0])\n",
        "    medali.append(x[1])\n",
        "\n",
        "print(pemain)\n",
        "print(medali)"
      ],
      "outputs": [
        {
          "output_type": "stream",
          "name": "stdout",
          "text": [
            "[4, 5, 5, 5, 5, 6, 6, 7, 7, 7, 8, 8, 9, 9]\n",
            "['Gregoria', 'Fajar', 'Jonathan C.', 'Putri', 'Rian', 'Melati', 'Praven', 'Apriani', 'Ginting', 'Greysia', 'Kevin', 'Markus', 'Ahsan', 'Hendra']\n"
          ]
        }
      ],
      "metadata": {
        "id": "tiybf3yDwy2P"
      }
    },
    {
      "cell_type": "markdown",
      "source": [
        "Misalkan Rio dan Dewi adalah pemain baru dengan perolehan medali : [2, \"Rio\"], [5, \"Dewi\"]. Jika maksimal 1 tim hanya 14 pemain, buatlah fungsi baru yang dapat memeriksa apakah Rio dan Dewi bisa menjadi pemain baru jika dibandingkan perolehan medalinya dengan squad tim saat ini. Output:\n",
        "\n",
        "\"Nama\" layak/tidak layak bergabung\n",
        "Tim Sudirman cup indonesia = \"list pemain yg layak\""
      ],
      "metadata": {
        "id": "dix7KA7P04RL"
      }
    },
    {
      "cell_type": "code",
      "execution_count": 58,
      "source": [
        "def seleksi_tim_sudirman(list_pemain_dan_medali):\n",
        "    for index, (medali, pemain) in enumerate(list_pemain_dan_medali):\n",
        "        if index <= 13:\n",
        "            print(f'{pemain} layak bergabung di Tim Sudirman')\n",
        "        else:\n",
        "            print(f'{pemain} belum layak bergabung di Tim Sudirman')\n",
        "\n",
        "seleksi_tim_sudirman(pemain_dan_medali)"
      ],
      "outputs": [
        {
          "output_type": "stream",
          "name": "stdout",
          "text": [
            "Gregoria layak bergabung di Tim Sudirman\n",
            "Fajar layak bergabung di Tim Sudirman\n",
            "Jonathan C. layak bergabung di Tim Sudirman\n",
            "Putri layak bergabung di Tim Sudirman\n",
            "Rian layak bergabung di Tim Sudirman\n",
            "Melati layak bergabung di Tim Sudirman\n",
            "Praven layak bergabung di Tim Sudirman\n",
            "Apriani layak bergabung di Tim Sudirman\n",
            "Ginting layak bergabung di Tim Sudirman\n",
            "Greysia layak bergabung di Tim Sudirman\n",
            "Kevin layak bergabung di Tim Sudirman\n",
            "Markus layak bergabung di Tim Sudirman\n",
            "Ahsan layak bergabung di Tim Sudirman\n",
            "Hendra layak bergabung di Tim Sudirman\n"
          ]
        }
      ],
      "metadata": {
        "id": "1cBNHZ4PyPon"
      }
    }
  ]
}