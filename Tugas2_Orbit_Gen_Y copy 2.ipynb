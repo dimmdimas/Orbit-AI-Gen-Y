{
  "nbformat": 4,
  "nbformat_minor": 2,
  "metadata": {
    "colab": {
      "name": "Latihan_2_Orbit_Gen_Y.ipynb",
      "provenance": [],
      "authorship_tag": "ABX9TyMieXjMIGWzrM/zzvEpmEU5",
      "include_colab_link": true
    },
    "kernelspec": {
      "name": "python3",
      "display_name": "Python 3.9.6 64-bit"
    },
    "language_info": {
      "name": "python",
      "version": "3.9.6",
      "mimetype": "text/x-python",
      "codemirror_mode": {
        "name": "ipython",
        "version": 3
      },
      "pygments_lexer": "ipython3",
      "nbconvert_exporter": "python",
      "file_extension": ".py"
    },
    "interpreter": {
      "hash": "aee8b7b246df8f9039afb4144a1f6fd8d2ca17a180786b69acc140d282b71a49"
    }
  },
  "cells": [
    {
      "cell_type": "markdown",
      "source": [
        "<a href=\"https://colab.research.google.com/github/dimmdimas/Orbit-AI-Gen-Y/blob/main/Latihan_2_Orbit_Gen_Y.ipynb\" target=\"_parent\"><img src=\"https://colab.research.google.com/assets/colab-badge.svg\" alt=\"Open In Colab\"/></a>"
      ],
      "metadata": {
        "id": "view-in-github",
        "colab_type": "text"
      }
    },
    {
      "cell_type": "markdown",
      "source": [
        "# **Aturan Penulisan Statement Pada *Basic Python***\n",
        "1. Penulisan satu statement di dalam Python tidak diakhiri dengan tanda titik-koma\n",
        "2. Statement pada Pyhton dinyatakan dalam satu baris. Jadi akhir dari sebuah pernyataan adalah baris baru (new line).\n",
        "3. Jika ada pernyataan yang panjangnya terdiri lebih dari 1 baris, maka dapat dilakukan dengan menggunakan tanda backslash (\\).\n",
        "4. Statement yang ada di dalam atau diapit oleh tanda kurung seperti \"[],{},()\" tidak memerlukan tanda \"\".\n",
        "5. Python menggunakan tanda indentasi (spasi) sebagai penanda blok. Panjang spasi atau indentasi untuk setiap baris yang ada dalam satu blok kode harus sama. Bila spasi atau indentasi dalam satu grup kode tersebut tidak sama, python akan menampilkan sintaks error.\n",
        "6. Sebagai penanda string, Python menggunakan tanda kutip, baik tunggal ('), maupun ganda(\"). Tanda kutip tiga(\"\"\") digunakan untuk string multibaris.\n",
        "7. Bahasa Python bersifat case sensitif, yang berarti membedakan huruf besar dan huruf kecil (memiliki nilai yang berbeda).\n",
        "8. Untuk komentar di awali dengan tanda \"#\" yang artinya tidak diproses sebagai statement code."
      ],
      "metadata": {}
    },
    {
      "cell_type": "markdown",
      "source": [
        "Aturan ke-1\n",
        "----\n",
        "Penulisan satu statement di dalam Python tidak diakhiri dengan tanda titik-koma"
      ],
      "metadata": {}
    },
    {
      "cell_type": "code",
      "execution_count": 1,
      "source": [
        "print ('Hello')\n",
        "print (\"Dunia\")"
      ],
      "outputs": [
        {
          "output_type": "stream",
          "name": "stdout",
          "text": [
            "Hello\n",
            "Dunia\n"
          ]
        }
      ],
      "metadata": {}
    },
    {
      "cell_type": "markdown",
      "source": [
        "Aturan ke-2\n",
        "----\n",
        "Statement pada Pyhton dinyatakan dalam satu baris. Jadi akhir dari sebuah pernyataan adalah baris baru (new line)."
      ],
      "metadata": {}
    },
    {
      "cell_type": "code",
      "execution_count": 2,
      "source": [
        "print ('Luas = panjang * lebar')"
      ],
      "outputs": [
        {
          "output_type": "stream",
          "name": "stdout",
          "text": [
            "Luas = panjang * lebar\n"
          ]
        }
      ],
      "metadata": {}
    },
    {
      "cell_type": "markdown",
      "source": [
        "Aturan ke-3\n",
        "----\n",
        "Jika ada pernyataan yang panjangnya terdiri lebih dari 1 baris, maka dapat dilakukan dengan menggunakan tanda backslash ( \\ ) "
      ],
      "metadata": {}
    },
    {
      "cell_type": "code",
      "execution_count": 5,
      "source": [
        "print ('Volume = panjang * lebar *\\\n",
        "    tinggi')"
      ],
      "outputs": [
        {
          "output_type": "stream",
          "name": "stdout",
          "text": [
            "Volume = panjang * lebar *    tinggi\n"
          ]
        }
      ],
      "metadata": {}
    },
    {
      "cell_type": "markdown",
      "source": [
        "Aturan ke-4\n",
        "----\n",
        "Statement yang ada di dalam atau diapit oleh tanda kurung seperti \"[],{},()\" tidak memerlukan tanda \"\""
      ],
      "metadata": {}
    },
    {
      "cell_type": "code",
      "execution_count": 12,
      "source": [
        "nama_hari = ['Senin', 'Selasa', 'Rabu', 'Kamis', 'Jum`at', 'Sabtu', 'Minggu']\n",
        "\n",
        "print (nama_hari)"
      ],
      "outputs": [
        {
          "output_type": "stream",
          "name": "stdout",
          "text": [
            "['Senin', 'Selasa', 'Rabu', 'Kamis', 'Jum`at', 'Sabtu', 'Minggu']\n"
          ]
        }
      ],
      "metadata": {}
    },
    {
      "cell_type": "markdown",
      "source": [
        "Aturan ke-5\n",
        "----\n",
        "Python menggunakan tanda indentasi (spasi) sebagai penanda blok. Panjang spasi atau indentasi untuk setiap baris yang ada dalam satu blok kode harus sama. Bila spasi atau indentasi dalam satu grup kode tersebut tidak sama, python akan menamplikan sintaks error\n"
      ],
      "metadata": {}
    },
    {
      "cell_type": "code",
      "execution_count": 15,
      "source": [
        "usia = 5\n",
        "\n",
        "if usia >= 18:\n",
        "    print('usia memenuhi syarat')\n",
        "    print('Dapat mengambil KTP')\n",
        "else:\n",
        "    print('Belum cukup umur')\n",
        "    print('tunggu ', 18 - usia, ' tahun lagi')"
      ],
      "outputs": [
        {
          "output_type": "stream",
          "name": "stdout",
          "text": [
            "Belum cukup umur\n",
            "tunggu  13  tahun lagi\n"
          ]
        }
      ],
      "metadata": {}
    },
    {
      "cell_type": "markdown",
      "source": [
        "Aturan ke-6\n",
        "----\n",
        "Sebaga penanda string, Python menggunakan tanda kutip, baik tunggal ('), maupun ganda(\"). Tanda kutip tiga(\"\"\") digunakan untuk string multibaris."
      ],
      "metadata": {}
    },
    {
      "cell_type": "code",
      "execution_count": 16,
      "source": [
        "namaDepan = 'Dimas'\n",
        "namaBelakang = \"Renaldi\"\n",
        "alinea = \"\"\"\"Berikut ini adalah alinea \n",
        "yang terdiri dari beberapa baris\"\"\"\n",
        "\n",
        "print (namaDepan)\n",
        "print (namaBelakang)\n",
        "print (alinea)"
      ],
      "outputs": [
        {
          "output_type": "stream",
          "name": "stdout",
          "text": [
            "Dimas\n",
            "Renaldi\n",
            "\"Berikut ini adalah alinea \n",
            "yang terdiri dari beberapa baris\n"
          ]
        }
      ],
      "metadata": {}
    },
    {
      "cell_type": "markdown",
      "source": [
        "Aturan ke-7\n",
        "----\n",
        "Bahasa Python bersifat case sensitif, yang berarti membedakan huruf besar dan huruf kecil (memiliki nilai yang berbeda)."
      ],
      "metadata": {}
    },
    {
      "cell_type": "code",
      "execution_count": 17,
      "source": [
        "luas1 = 15 * 3\n",
        "\n",
        "print (luas1)\n",
        "\n",
        "luas2 = 15 * 5\n",
        "#Print (luas2)\n",
        "#PRINT (luas2)\n",
        "print (luas2)"
      ],
      "outputs": [
        {
          "output_type": "stream",
          "name": "stdout",
          "text": [
            "45\n",
            "75\n"
          ]
        }
      ],
      "metadata": {}
    },
    {
      "cell_type": "markdown",
      "source": [
        "Aturan ke-8\n",
        "----\n",
        "Untuk komentar di awali dengan tanda \"#\" yang artinya tidak diproses sebagai statement code."
      ],
      "metadata": {}
    },
    {
      "cell_type": "code",
      "execution_count": 18,
      "source": [
        "#panjang * lebar\n",
        "panjang = 15\n",
        "lebar = 3\n",
        "luas = panjang * lebar\n",
        "\n",
        "print (luas)"
      ],
      "outputs": [
        {
          "output_type": "stream",
          "name": "stdout",
          "text": [
            "45\n"
          ]
        }
      ],
      "metadata": {}
    },
    {
      "cell_type": "markdown",
      "source": [
        "Nilai Prioritas Operator dalam Python – Part1\n",
        "---"
      ],
      "metadata": {}
    },
    {
      "cell_type": "code",
      "execution_count": 19,
      "source": [
        "total_harga     = 150000\n",
        "potongan_harga  = 0.3\n",
        "pajak           = 0.1\n",
        "\n",
        "harga_bayar     = (1 - potongan_harga) * total_harga\n",
        "\n",
        "harga_bayar += harga_bayar * pajak\n",
        "\n",
        "print ('Harga bayar = ', harga_bayar)"
      ],
      "outputs": [
        {
          "output_type": "stream",
          "name": "stdout",
          "text": [
            "Harga bayar =  115500.0\n"
          ]
        }
      ],
      "metadata": {}
    },
    {
      "cell_type": "code",
      "execution_count": 21,
      "source": [
        "sepatu = {\n",
        "    'nama'      : 'Sepatu Niko',\n",
        "    'harga'     : 150000,\n",
        "    'diskon'    : 30000\n",
        "}\n",
        "\n",
        "baju = {\n",
        "    'nama'      : 'Baju Uniqlo',\n",
        "    'harga'     : 80000,\n",
        "    'diskon'    : 8000\n",
        "}\n",
        "\n",
        "celana = {\n",
        "    'nama'      : 'Celana Lepis',\n",
        "    'harga'     : 200000,\n",
        "    'diskon'    : 60000\n",
        "}\n",
        "\n",
        "harga_sepatu    = sepatu['harga'] - sepatu['diskon']\n",
        "harga_baju      = baju['harga'] - baju['diskon']\n",
        "harga_celana    = celana['harga'] - celana['diskon']\n",
        "\n",
        "total           = (harga_sepatu + harga_baju + harga_celana) * 1.1\n",
        "print (total)\n"
      ],
      "outputs": [
        {
          "output_type": "stream",
          "name": "stdout",
          "text": [
            "365200.00000000006\n"
          ]
        }
      ],
      "metadata": {}
    },
    {
      "cell_type": "code",
      "execution_count": 24,
      "source": [
        "tagihan_ke = 'Mr.Yoyo'\n",
        "\n",
        "warehousing = {\n",
        "    'harga_harian'  : 1000000,\n",
        "    'total_hari'    : 15\n",
        "}\n",
        "\n",
        "cleansing = {\n",
        "    'harga_harian'  : 1500000,\n",
        "    'total_hari'    : 10\n",
        "}\n",
        "\n",
        "integration = {\n",
        "    'harga_harian'  : 2000000,\n",
        "    'total_hari'    : 15\n",
        "}\n",
        "\n",
        "transform = {\n",
        "    'harga_harian'  : 2500000,\n",
        "    'total_hari'    : 10\n",
        "}\n",
        "\n",
        "sub_warehousing = warehousing['harga_harian'] * warehousing['total_hari']\n",
        "sub_cleansing   = cleansing['harga_harian'] * cleansing['total_hari']\n",
        "sub_integration = integration['harga_harian'] * integration['total_hari']\n",
        "\n",
        "total = sub_cleansing + sub_integration + sub_warehousing\n",
        "\n",
        "print (\"Tagihan Kepada\")\n",
        "print (tagihan_ke)\n",
        "print ('Selamat pagi ', tagihan_ke, ', anda harus membayar tagihan sebesar : ', total)"
      ],
      "outputs": [
        {
          "output_type": "stream",
          "name": "stdout",
          "text": [
            "Tagihan Kepada\n",
            "Mr.Yoyo\n",
            "Selamat pagi  Mr.Yoyo , anda harus membayar tagihan sebesar :  60000000\n"
          ]
        }
      ],
      "metadata": {}
    },
    {
      "cell_type": "markdown",
      "source": [
        "Python while loops – Part1\n",
        "--"
      ],
      "metadata": {}
    },
    {
      "cell_type": "code",
      "execution_count": 25,
      "source": [
        "tagihan = [50000, 75000, 125000, 300000, 200000]\n",
        "\n",
        "#tanpa while \n",
        "\n",
        "total = tagihan[0] + tagihan[1] + tagihan[2] + tagihan[3] + tagihan[4]\n",
        "print (total)\n",
        "\n",
        "#while \n",
        "\n",
        "i = 0\n",
        "jumlah_tagihan = len(tagihan)\n",
        "total = 0\n",
        "\n",
        "while i < jumlah_tagihan:\n",
        "    total += tagihan[i]\n",
        "    i += 1\n",
        "\n",
        "print(total)"
      ],
      "outputs": [
        {
          "output_type": "stream",
          "name": "stdout",
          "text": [
            "750000\n",
            "750000\n"
          ]
        }
      ],
      "metadata": {}
    },
    {
      "cell_type": "markdown",
      "source": [
        "Python while loops – Part2\n",
        "--"
      ],
      "metadata": {}
    },
    {
      "cell_type": "code",
      "execution_count": 28,
      "source": [
        "tagihan = [50000, 75000, -150000, 125000, 300000, -50000, 200000]\n",
        "\n",
        "i = 0\n",
        "jumlah_tagihan = len(tagihan)\n",
        "total = 0\n",
        "\n",
        "while i < jumlah_tagihan:\n",
        "    if tagihan[i] <-1:\n",
        "        print('Terdapat nilai minus dalam tagihan')\n",
        "        break\n",
        "    total += tagihan[i]\n",
        "    i += 1\n",
        "\n",
        "print(total)"
      ],
      "outputs": [
        {
          "output_type": "stream",
          "name": "stdout",
          "text": [
            "Terdapat nilai minus dalam tagihan\n",
            "125000\n"
          ]
        }
      ],
      "metadata": {}
    },
    {
      "cell_type": "markdown",
      "source": [
        "Python while loops – Part3\n",
        "---"
      ],
      "metadata": {}
    },
    {
      "cell_type": "code",
      "execution_count": 30,
      "source": [
        "tagihan = [50000, 75000, -150000, 125000, 300000, -50000, 200000]\n",
        "\n",
        "i = 0\n",
        "jumlah_tagihan = len(tagihan)\n",
        "total = 0\n",
        "\n",
        "while i < jumlah_tagihan:\n",
        "    if tagihan[i] < 0:\n",
        "        i += 1\n",
        "    total += tagihan[i]\n",
        "    i += 1\n",
        "\n",
        "print(total)"
      ],
      "outputs": [
        {
          "output_type": "stream",
          "name": "stdout",
          "text": [
            "750000\n"
          ]
        }
      ],
      "metadata": {}
    },
    {
      "cell_type": "markdown",
      "source": [
        "Python for loops – Part1\n",
        "-----"
      ],
      "metadata": {}
    },
    {
      "cell_type": "code",
      "execution_count": 31,
      "source": [
        "list_tagihan = [50000, 75000, -150000, 125000, 300000, -50000, 200000]\n",
        "\n",
        "total_tagihan = 0 \n",
        "\n",
        "for tagihan in list_tagihan:\n",
        "    if tagihan < 0:\n",
        "        print('terdapat anka minus dalam tagihan')\n",
        "        break\n",
        "    total_tagihan += tagihan\n",
        "\n",
        "print(total_tagihan)"
      ],
      "outputs": [
        {
          "output_type": "stream",
          "name": "stdout",
          "text": [
            "terdapat anka minus dalam tagihan\n",
            "125000\n"
          ]
        }
      ],
      "metadata": {}
    },
    {
      "cell_type": "markdown",
      "source": [
        "Ekspedisi Pamanku\n",
        "---\n"
      ],
      "metadata": {}
    },
    {
      "cell_type": "code",
      "execution_count": 32,
      "source": [
        "uang            = 1500000\n",
        "jumlah_hari     = 31\n",
        "list_plat_nomor = [8993, 2198, 2501, 2735, 3772, 4837, 9151]\n",
        "\n",
        "kendaraan_genap     = 0\n",
        "kendaraan_ganjil    = 1\n",
        "\n",
        "for plat_nomor in list_plat_nomor:\n",
        "    if plat_nomor % 2 == 0:\n",
        "        kendaraan_genap += 1\n",
        "    else:\n",
        "        kendaraan_ganjil += 1\n",
        "\n",
        "i = 1\n",
        "total_pengeluaran = 0\n",
        "\n",
        "while i <= jumlah_hari:\n",
        "    if i % 2 == 0:\n",
        "        total_pengeluaran += (kendaraan_genap * uang)\n",
        "    else:\n",
        "        total_pengeluaran += (kendaraan_ganjil * uang)\n",
        "    i += 1\n",
        "\n",
        "print (total_pengeluaran)"
      ],
      "outputs": [
        {
          "output_type": "stream",
          "name": "stdout",
          "text": [
            "189000000\n"
          ]
        }
      ],
      "metadata": {}
    }
  ]
}