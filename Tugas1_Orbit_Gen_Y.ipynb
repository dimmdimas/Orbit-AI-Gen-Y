{
  "nbformat": 4,
  "nbformat_minor": 2,
  "metadata": {
    "colab": {
      "name": "Latihan_2_Orbit_Gen_Y.ipynb",
      "provenance": [],
      "authorship_tag": "ABX9TyMieXjMIGWzrM/zzvEpmEU5",
      "include_colab_link": true
    },
    "kernelspec": {
      "name": "python3",
      "display_name": "Python 3.9.6 64-bit"
    },
    "language_info": {
      "name": "python",
      "version": "3.9.6",
      "mimetype": "text/x-python",
      "codemirror_mode": {
        "name": "ipython",
        "version": 3
      },
      "pygments_lexer": "ipython3",
      "nbconvert_exporter": "python",
      "file_extension": ".py"
    },
    "interpreter": {
      "hash": "aee8b7b246df8f9039afb4144a1f6fd8d2ca17a180786b69acc140d282b71a49"
    }
  },
  "cells": [
    {
      "cell_type": "markdown",
      "source": [
        "<a href=\"https://colab.research.google.com/github/dimmdimas/Orbit-AI-Gen-Y/blob/main/Latihan_2_Orbit_Gen_Y.ipynb\" target=\"_parent\"><img src=\"https://colab.research.google.com/assets/colab-badge.svg\" alt=\"Open In Colab\"/></a>"
      ],
      "metadata": {
        "id": "view-in-github",
        "colab_type": "text"
      }
    },
    {
      "cell_type": "markdown",
      "source": [],
      "metadata": {}
    },
    {
      "cell_type": "code",
      "execution_count": 1,
      "source": [
        "calon_anggota = [\n",
        "    {\n",
        "        'nama'              :   'Entong',\n",
        "        'total_tabungan'    :   12000,\n",
        "        'usia'              :   16\n",
        "    },\n",
        "    {\n",
        "        'nama'              :   'Eneng',\n",
        "        'total_tabungan'    :   10000,\n",
        "        'usia'              :   17\n",
        "    },\n",
        "    {\n",
        "        'nama'              :   'Bobby',\n",
        "        'total_tabungan'    :   9000,\n",
        "        'usia'              :   25\n",
        "    },\n",
        "    {\n",
        "        'nama'              :   'Amir',\n",
        "        'total_tabungan'    :   15000,\n",
        "        'usia'              :   26\n",
        "    },\n",
        "    {\n",
        "        'nama'              :   'Rendi',\n",
        "        'total_tabungan'    :   9900,\n",
        "        'usia'              :   23\n",
        "    }\n",
        "]\n",
        "\n",
        "for anggota in calon_anggota:\n",
        "    if anggota['total_tabungan'] >= 10000:\n",
        "        if anggota['usia'] >=17 and anggota['usia'] <= 25:\n",
        "            print ('nama = ', anggota['nama'], ' dinyatakan [lolos]')\n",
        "        else:\n",
        "            print ('nama = ', anggota['nama'], ' dinyatakan [Gagal], Karena usia tidak memenuhi kriteria ')\n",
        "    else:\n",
        "        print ('nama = ', anggota['nama'], ' dinyatakan [Gagal], Karena total tabungan tidak memenuhi kriteria')"
      ],
      "outputs": [
        {
          "output_type": "error",
          "ename": "SyntaxError",
          "evalue": "invalid syntax (3729848363.py, line 38)",
          "traceback": [
            "\u001b[0;36m  File \u001b[0;32m\"/var/folders/lv/d6trh5kd6hs66zmby5_j3z0w0000gn/T/ipykernel_22880/3729848363.py\"\u001b[0;36m, line \u001b[0;32m38\u001b[0m\n\u001b[0;31m    print(calon_anggota[values='Eneng'])\u001b[0m\n\u001b[0m                              ^\u001b[0m\n\u001b[0;31mSyntaxError\u001b[0m\u001b[0;31m:\u001b[0m invalid syntax\n"
          ]
        }
      ],
      "metadata": {}
    }
  ]
}