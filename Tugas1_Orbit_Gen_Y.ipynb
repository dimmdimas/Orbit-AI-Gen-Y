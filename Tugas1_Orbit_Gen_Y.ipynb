{
  "nbformat": 4,
  "nbformat_minor": 2,
  "metadata": {
    "colab": {
      "name": "Latihan_2_Orbit_Gen_Y.ipynb",
      "provenance": [],
      "authorship_tag": "ABX9TyMieXjMIGWzrM/zzvEpmEU5",
      "include_colab_link": true
    },
    "kernelspec": {
      "name": "python3",
      "display_name": "Python 3.9.6 64-bit"
    },
    "language_info": {
      "name": "python",
      "version": "3.9.6",
      "mimetype": "text/x-python",
      "codemirror_mode": {
        "name": "ipython",
        "version": 3
      },
      "pygments_lexer": "ipython3",
      "nbconvert_exporter": "python",
      "file_extension": ".py"
    },
    "interpreter": {
      "hash": "aee8b7b246df8f9039afb4144a1f6fd8d2ca17a180786b69acc140d282b71a49"
    }
  },
  "cells": [
    {
      "cell_type": "markdown",
      "source": [
        "<a href=\"https://colab.research.google.com/github/dimmdimas/Orbit-AI-Gen-Y/blob/main/Latihan_2_Orbit_Gen_Y.ipynb\" target=\"_parent\"><img src=\"https://colab.research.google.com/assets/colab-badge.svg\" alt=\"Open In Colab\"/></a>"
      ],
      "metadata": {
        "id": "view-in-github",
        "colab_type": "text"
      }
    },
    {
      "cell_type": "markdown",
      "source": [],
      "metadata": {}
    },
    {
      "cell_type": "code",
      "execution_count": null,
      "source": [
        "calon_anggota = [\n",
        "    {\n",
        "        'nama'              :   'Entong'\n",
        "        'total_tabungan'    :   12000\n",
        "        'usia'              :   16\n",
        "    },\n",
        "    {\n",
        "        'nama'              :   'Eneng'\n",
        "        'total_tabungan'    :   10000\n",
        "        'usia'              :   17\n",
        "    },\n",
        "    {\n",
        "        'nama'              :   'Bobby'\n",
        "        'total_tabungan'    :   9000\n",
        "        'usia'              :   25\n",
        "    },\n",
        "    {\n",
        "        'nama'              :   'Amir'\n",
        "        'total_tabungan'    :   15000\n",
        "        'usia'              :   26\n",
        "    },\n",
        "    {\n",
        "        'nama'              :   'Rendi'\n",
        "        'total_tabungan'    :   9900\n",
        "        'usia'              :   23\n",
        "    }\n",
        "]\n",
        "\n",
        "for anggota in calong_anggota:\n",
        "    if anggota['total_tabungan']"
      ],
      "outputs": [],
      "metadata": {}
    }
  ]
}