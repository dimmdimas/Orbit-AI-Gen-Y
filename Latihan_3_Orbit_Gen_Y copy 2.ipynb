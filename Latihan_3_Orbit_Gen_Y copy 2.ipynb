{
  "nbformat": 4,
  "nbformat_minor": 2,
  "metadata": {
    "colab": {
      "name": "Latihan_2_Orbit_Gen_Y.ipynb",
      "provenance": [],
      "authorship_tag": "ABX9TyMieXjMIGWzrM/zzvEpmEU5",
      "include_colab_link": true
    },
    "kernelspec": {
      "name": "python3",
      "display_name": "Python 3.9.6 64-bit"
    },
    "language_info": {
      "name": "python",
      "version": "3.9.6",
      "mimetype": "text/x-python",
      "codemirror_mode": {
        "name": "ipython",
        "version": 3
      },
      "pygments_lexer": "ipython3",
      "nbconvert_exporter": "python",
      "file_extension": ".py"
    },
    "interpreter": {
      "hash": "aee8b7b246df8f9039afb4144a1f6fd8d2ca17a180786b69acc140d282b71a49"
    }
  },
  "cells": [
    {
      "cell_type": "markdown",
      "source": [
        "<a href=\"https://colab.research.google.com/github/dimmdimas/Orbit-AI-Gen-Y/blob/main/Latihan_2_Orbit_Gen_Y.ipynb\" target=\"_parent\"><img src=\"https://colab.research.google.com/assets/colab-badge.svg\" alt=\"Open In Colab\"/></a>"
      ],
      "metadata": {
        "id": "view-in-github",
        "colab_type": "text"
      }
    },
    {
      "cell_type": "markdown",
      "source": [
        "**Data Structure And Algorithm**\n",
        "--"
      ],
      "metadata": {}
    },
    {
      "cell_type": "markdown",
      "source": [
        "    1.  if bersarang\n",
        "    2.  pass\n",
        "    3.  defining function\n",
        "    4.  break & continue"
      ],
      "metadata": {}
    },
    {
      "cell_type": "code",
      "execution_count": null,
      "source": [],
      "outputs": [],
      "metadata": {}
    }
  ]
}