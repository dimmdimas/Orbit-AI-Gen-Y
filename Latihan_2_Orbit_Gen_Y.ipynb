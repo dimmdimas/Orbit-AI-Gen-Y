{
  "nbformat": 4,
  "nbformat_minor": 2,
  "metadata": {
    "colab": {
      "name": "Latihan_2_Orbit_Gen_Y.ipynb",
      "provenance": [],
      "authorship_tag": "ABX9TyMieXjMIGWzrM/zzvEpmEU5",
      "include_colab_link": true
    },
    "kernelspec": {
      "name": "python3",
      "display_name": "Python 3.9.6 64-bit"
    },
    "language_info": {
      "name": "python",
      "version": "3.9.6",
      "mimetype": "text/x-python",
      "codemirror_mode": {
        "name": "ipython",
        "version": 3
      },
      "pygments_lexer": "ipython3",
      "nbconvert_exporter": "python",
      "file_extension": ".py"
    },
    "interpreter": {
      "hash": "aee8b7b246df8f9039afb4144a1f6fd8d2ca17a180786b69acc140d282b71a49"
    }
  },
  "cells": [
    {
      "cell_type": "markdown",
      "source": [
        "<a href=\"https://colab.research.google.com/github/dimmdimas/Orbit-AI-Gen-Y/blob/main/Latihan_2_Orbit_Gen_Y.ipynb\" target=\"_parent\"><img src=\"https://colab.research.google.com/assets/colab-badge.svg\" alt=\"Open In Colab\"/></a>"
      ],
      "metadata": {
        "id": "view-in-github",
        "colab_type": "text"
      }
    },
    {
      "cell_type": "markdown",
      "source": [
        "Nomor 1\n",
        "Variabel\n",
        "---\n",
        "\n",
        "Tempat untuk menyimpan data dengan tipe tertentu"
      ],
      "metadata": {
        "id": "HEg_YAxOfktW"
      }
    },
    {
      "cell_type": "markdown",
      "source": [
        "Nomor 2\n",
        "Tipe Data\n",
        "---\n",
        "\n",
        "    1.  String  = 'abcdefghi'\n",
        "    2.  Integer = 1234567890\n",
        "    3.  Float   = 3.5 , 8.4\n",
        "    4.  Boolean = False, True "
      ],
      "metadata": {}
    },
    {
      "cell_type": "code",
      "execution_count": 1,
      "source": [
        "nama = 'Muhammad Dimas Renaldi' #String\n",
        "umur = 18   #Integer\n",
        "berat_badan = 48.50 # Float\n",
        "status_pernikahan = False   #Boolean\n",
        "\n",
        "print(\"Nama                : \", nama)\n",
        "print(\"Umur                : \", umur, \"Tahun\")\n",
        "print(\"Berat Badan         : \", berat_badan)\n",
        "print(\"Status Pernikahan   : \", status_pernikahan)"
      ],
      "outputs": [
        {
          "output_type": "stream",
          "name": "stdout",
          "text": [
            "Nama                :  Muhammad Dimas Renaldi\n",
            "Umur                :  18 Tahun\n",
            "Berat Badan         :  48.5\n",
            "Status Pernikahan   :  False\n"
          ]
        }
      ],
      "metadata": {}
    },
    {
      "cell_type": "markdown",
      "source": [
        "Nomor 3\n",
        "Tipe data turunan\n",
        "---\n",
        "\n",
        "    1.  Array \n",
        "    2.  List \n",
        "    3.  Tupple      = isi nya tidak bisa diubah\n",
        "    4.  Dictionary\n",
        "    5.  Set\n",
        "    6.  File"
      ],
      "metadata": {}
    },
    {
      "cell_type": "code",
      "execution_count": 12,
      "source": [
        "import array as arr\n",
        "\n",
        "print(' ')\n",
        "print('=========== Array ===========')\n",
        "print(' ')\n",
        "\n",
        "apapun_array = arr.array(\"I\", [1,4,8,12,16])\n",
        "print (apapun_array)\n",
        "\n",
        "bilangan_kelipatan_tiga = arr.array('I', [1,3,21,9])\n",
        "print(bilangan_kelipatan_tiga)\n",
        "\n",
        "print(' ')\n",
        "print('=========== List ===========')\n",
        "print(' ')\n",
        "\n",
        "apapun_list = [\"satu\", 2, 3, 4.5, True]\n",
        "print (apapun_list)\n",
        "\n",
        "rint(' ')\n",
        "print('=========== List ===========')\n",
        "print(' ')"
      ],
      "outputs": [
        {
          "output_type": "stream",
          "name": "stdout",
          "text": [
            " \n",
            "=========== Array ===========\n",
            " \n",
            "array('I', [1, 4, 8, 12, 16])\n",
            "array('I', [1, 3, 21, 9])\n",
            " \n",
            "=========== List ===========\n",
            " \n",
            "['satu', 2, 3, 4.5, True]\n"
          ]
        }
      ],
      "metadata": {}
    }
  ]
}