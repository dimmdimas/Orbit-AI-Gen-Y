{
  "nbformat": 4,
  "nbformat_minor": 2,
  "metadata": {
    "colab": {
      "name": "Adelia_2.ipynb",
      "provenance": [],
      "collapsed_sections": []
    },
    "kernelspec": {
      "name": "python3",
      "display_name": "Python 3.9.6 64-bit"
    },
    "language_info": {
      "name": "python",
      "version": "3.9.6",
      "mimetype": "text/x-python",
      "codemirror_mode": {
        "name": "ipython",
        "version": 3
      },
      "pygments_lexer": "ipython3",
      "nbconvert_exporter": "python",
      "file_extension": ".py"
    },
    "interpreter": {
      "hash": "aee8b7b246df8f9039afb4144a1f6fd8d2ca17a180786b69acc140d282b71a49"
    }
  },
  "cells": [
    {
      "cell_type": "code",
      "execution_count": 1,
      "source": [
        "#Syntax Error\n",
        "def sumarray(arr):\n",
        "    sum = 0\n",
        "    for a in arr:\n",
        "        sum = sum+a\n",
        "    return sum\n",
        "\n",
        "print(sumarray([1,2,3,4]))"
      ],
      "outputs": [
        {
          "output_type": "stream",
          "name": "stdout",
          "text": [
            "10\n"
          ]
        }
      ],
      "metadata": {
        "colab": {
          "base_uri": "https://localhost:8080/"
        },
        "id": "hHPkai5RuBN5",
        "outputId": "9447d8ac-3bb1-49af-89d6-6ee2eb7a4941"
      }
    },
    {
      "cell_type": "code",
      "execution_count": 2,
      "source": [
        "#Logic Error\n",
        "angka = 1\n",
        "list_angka = []\n",
        "while angka%2!=0:\n",
        "    list_angka.append(angka)\n",
        "    angka*=2   #variabel angka merupakan bilangan pangkat 3"
      ],
      "outputs": [],
      "metadata": {
        "id": "te4XizuYLJob"
      }
    },
    {
      "cell_type": "code",
      "execution_count": 3,
      "source": [
        "#Program menghitung rata-rata dari sebuah list\n",
        "\n",
        "data = [1,2,3,4,5,10,23]\n",
        "sum = 0\n",
        "for i in data:\n",
        "  sum = sum*i\n",
        "\n",
        "rata_rata = sum/len(data)\n",
        "print(rata_rata)"
      ],
      "outputs": [
        {
          "output_type": "stream",
          "name": "stdout",
          "text": [
            "0.0\n"
          ]
        }
      ],
      "metadata": {
        "colab": {
          "base_uri": "https://localhost:8080/"
        },
        "id": "wtTdKuCAuJf8",
        "outputId": "a7ab438e-bf1e-4b26-e45c-15cb4abe2354"
      }
    },
    {
      "cell_type": "code",
      "execution_count": 4,
      "source": [
        "def mergeSort(arr):\n",
        "    if len(arr) > 1:\n",
        "  \n",
        "         # Finding the mid of the array\n",
        "        mid = len(arr)//2\n",
        "  \n",
        "        # Dividing the array elements\n",
        "        L = arr[:mid]\n",
        "  \n",
        "        # into 2 halves\n",
        "        R = arr[mid:]\n",
        "  \n",
        "        # Sorting the first half\n",
        "        mergeSort(L)\n",
        "  \n",
        "        # Sorting the second half\n",
        "        mergeSort(R)\n",
        "  \n",
        "        i = j = k = 0\n",
        "  \n",
        "        # Copy data to temp arrays L[] and R[]\n",
        "        while i < len(L) and j < len(R):\n",
        "            if L[i] < R[j]:\n",
        "                arr[k] = L[i]\n",
        "                i += 1\n",
        "            else:\n",
        "                arr[k] = R[j]\n",
        "                j += 1\n",
        "            k += 1\n",
        "  \n",
        "        # Checking if any element was left\n",
        "        while i < len(L):\n",
        "            arr[k] = L[i]\n",
        "            i += 1\n",
        "            k += 1\n",
        "  \n",
        "        while j < len(R):\n",
        "            arr[k] = R[j]\n",
        "            j += 1\n",
        "            k += 1\n",
        "  \n",
        "# Code to print the list\n",
        "  \n",
        "  \n",
        "def printList(arr):\n",
        "    for i in range(len(arr)):\n",
        "        print(arr[i], end=\" \")\n",
        "    print()\n",
        "  \n",
        "  \n",
        "# Driver Code\n",
        "arr = [12, 11, 13, 5, 6, 7]\n",
        "print(\"Given array is\", end=\"\\n\")\n",
        "printList(arr)\n",
        "mergeSort(arr)\n",
        "print(\"Sorted array is: \", end=\"\\n\")\n",
        "printList(arr)"
      ],
      "outputs": [
        {
          "output_type": "stream",
          "name": "stdout",
          "text": [
            "Given array is\n",
            "12 11 13 5 6 7 \n",
            "Sorted array is: \n",
            "5 6 7 11 12 13 \n"
          ]
        }
      ],
      "metadata": {
        "colab": {
          "base_uri": "https://localhost:8080/"
        },
        "id": "S87WJX7AMPw6",
        "outputId": "1338e807-1e8c-4e7e-ca0a-c4ee70888a59"
      }
    },
    {
      "cell_type": "code",
      "execution_count": 5,
      "source": [
        "import pandas as pd\n",
        "import matplotlib.pyplot as plt\n",
        "\n",
        "url = 'https://people.sc.fsu.edu/~jburkardt/data/csv/freshman_kgs.csv'\n",
        "file = 'freshman_kgs.csv'\n",
        "\n",
        "dataframe = pd.read_csv(url)\n",
        "\n",
        "dataframe[[' \"Weight (Sep)\"', ' \"Weight (Apr)\"']].plot(kind='scatter', x=' \"Weight (Sep)\"', y=' \"Weight (Apr)\"', \n",
        "                                                 figsize=(10, 6), color='darkblue')\n",
        "\n",
        "plt.title('Hubungan berat badan bulan september dan april', fontsize = 20, fontname=\"Arial\")\n",
        "plt.ylabel('April', fontsize = 10)\n",
        "plt.xlabel('September', fontsize = 10)\n",
        "\n",
        "plt.show()"
      ],
      "outputs": [
        {
          "output_type": "display_data",
          "data": {
            "image/png": "[encoded data removed]",
            "text/plain": [
              "<Figure size 720x432 with 1 Axes>"
            ]
          },
          "metadata": {
            "needs_background": "light"
          }
        }
      ],
      "metadata": {
        "colab": {
          "base_uri": "https://localhost:8080/",
          "height": 409
        },
        "id": "wUA5f_C5Kf3B",
        "outputId": "1274a6dd-1d8f-4a5f-fccb-6f0002eb42e7"
      }
    },
    {
      "cell_type": "code",
      "execution_count": 8,
      "source": [
        "def main_layangan():\n",
        "  hujan = input(\"lagi ujan ga? (y/n)\")\n",
        "  if hujan == 'y' or hujan == 'Y':\n",
        "    # ubah jadi True\n",
        "    hujan = True\n",
        "  else:\n",
        "    # ubah jadi false\n",
        "    hujan = False\n",
        "\n",
        "  #print('hujan:', hujan)\n",
        "\n",
        "  # tambahin float buat bungkus input\n",
        "  kecepatan_angin = float(input('masukkan kecepatan angin'))\n",
        "\n",
        "  if hujan == True:\n",
        "    print('Gak bisa main layangan')\n",
        "  else:\n",
        "    # ubah jadi kecepatan_angin > 5 and kecepatan_angin < 30\n",
        "    if kecepatan_angin > 5 and kecepatan_angin < 30:\n",
        "      print('Ayiik, gass main layangan')\n",
        "      # tambahin return\n",
        "      return True\n",
        "    else:\n",
        "      print('Skip, mending main ep ep')\n",
        "      # tambahin return\n",
        "      return False\n",
        "\n",
        "capek = main_layangan()\n",
        "\n",
        "if capek == True:\n",
        "  print(\"Istirahat\")\n",
        "else:\n",
        "  print(\"main\")"
      ],
      "outputs": [
        {
          "output_type": "stream",
          "name": "stdout",
          "text": [
            "Gak bisa main layangan\n",
            "main\n"
          ]
        }
      ],
      "metadata": {
        "colab": {
          "base_uri": "https://localhost:8080/"
        },
        "id": "RH0Qxfq-Mabv",
        "outputId": "973104b8-968a-462f-9d51-1c945c538819"
      }
    }
  ]
}