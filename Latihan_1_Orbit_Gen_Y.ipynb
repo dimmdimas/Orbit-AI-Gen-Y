{
  "nbformat": 4,
  "nbformat_minor": 2,
  "metadata": {
    "colab": {
      "name": "Latihan 1  Orbit Gen Y.ipynb",
      "provenance": [],
      "authorship_tag": "ABX9TyOoBEDVXGv1LKGke/X3tayA",
      "include_colab_link": true
    },
    "kernelspec": {
      "name": "python3",
      "display_name": "Python 3.9.6 64-bit"
    },
    "language_info": {
      "name": "python",
      "version": "3.9.6",
      "mimetype": "text/x-python",
      "codemirror_mode": {
        "name": "ipython",
        "version": 3
      },
      "pygments_lexer": "ipython3",
      "nbconvert_exporter": "python",
      "file_extension": ".py"
    },
    "interpreter": {
      "hash": "aee8b7b246df8f9039afb4144a1f6fd8d2ca17a180786b69acc140d282b71a49"
    }
  },
  "cells": [
    {
      "cell_type": "markdown",
      "source": [
        "<a href=\"https://colab.research.google.com/github/dimmdimas/Orbit-AI-Gen-Y/blob/main/Latihan_1_Orbit_Gen_Y.ipynb\" target=\"_parent\"><img src=\"https://colab.research.google.com/assets/colab-badge.svg\" alt=\"Open In Colab\"/></a>"
      ],
      "metadata": {
        "id": "view-in-github",
        "colab_type": "text"
      }
    },
    {
      "cell_type": "markdown",
      "source": [
        "Nomor 1\n",
        "------------------\n",
        "\n",
        "`print()` digunakan untuk mencetak text / angka / variabel"
      ],
      "metadata": {
        "id": "eWEqbuD-_6AG"
      }
    },
    {
      "cell_type": "code",
      "execution_count": null,
      "source": [
        "print ('Hello World')"
      ],
      "outputs": [
        {
          "output_type": "stream",
          "name": "stdout",
          "text": [
            "Hello World\n"
          ]
        }
      ],
      "metadata": {
        "colab": {
          "base_uri": "https://localhost:8080/"
        },
        "id": "P3zVMj2K_-uM",
        "outputId": "1f08688b-ab17-483c-baa1-cac24fe9b7c4"
      }
    },
    {
      "cell_type": "markdown",
      "source": [
        "Nomor 2\n",
        "------------------------------\n",
        "\n",
        "`print()` merupakan fungsi untuk mencetak text / angka / variabel"
      ],
      "metadata": {
        "id": "BIJwkJqBAD2K"
      }
    },
    {
      "cell_type": "code",
      "execution_count": null,
      "source": [
        "print ('Halo Dunia')\n",
        "print ('Riset Bahasa Python')\n"
      ],
      "outputs": [
        {
          "output_type": "stream",
          "name": "stdout",
          "text": [
            "Halo Dunia\n",
            "Riset Bahasa Python\n"
          ]
        }
      ],
      "metadata": {
        "colab": {
          "base_uri": "https://localhost:8080/"
        },
        "id": "h0mlsw4iAD66",
        "outputId": "76a38dd1-10fc-447d-d1d8-13549a99ae9a"
      }
    },
    {
      "cell_type": "markdown",
      "source": [
        "Nomor 3\n",
        "------------------------------------------------\n",
        "\n",
        "Metode langsung = memasukan operasi matematika didalam fungsi `print()`\n",
        "\n",
        "Metode Varibel = membuat variabel dengan nama `hasil` lalu memasukan operaasi matematika. kemudian variabel tinggal dipanggil menggunakan fungsi `print()`"
      ],
      "metadata": {
        "id": "B9O4JZuuANxP"
      }
    },
    {
      "cell_type": "code",
      "execution_count": null,
      "source": [
        "nomor1 = 20\n",
        "nomor2 = 10\n",
        "\n",
        "hasil = nomor1 - nomor2\n",
        "\n",
        "print('Metode langsung = ',nomor1 - nomor2)\n",
        "print('Metode Variabel = ', hasil)"
      ],
      "outputs": [
        {
          "output_type": "stream",
          "name": "stdout",
          "text": [
            "Metode langsung =  10\n",
            "Metode Variabel =  10\n"
          ]
        }
      ],
      "metadata": {
        "colab": {
          "base_uri": "https://localhost:8080/"
        },
        "id": "2VYSBE9hAN1t",
        "outputId": "7ffbf910-f2b0-4eae-c3b6-3cc35e902e20"
      }
    },
    {
      "cell_type": "markdown",
      "source": [
        "Nomor 4 \n",
        "--\n",
        "\n",
        "list merupakan kumpulan data yang terurut dan memiliki index `[0]`, sedangkan set adalah penyimpanan data yang tidak terurut dan tidak memiliki index didalamnya.\n",
        "\n"
      ],
      "metadata": {
        "id": "h6xOw9urBphk"
      }
    },
    {
      "cell_type": "code",
      "execution_count": null,
      "source": [
        "contoh_list = ['Dewi', 'Budi', 'Cici', 'Linda', 'Cuci']\n",
        "\n",
        "print(contoh_list)\n",
        "\n",
        "print(' ')\n",
        "print('=============================================')\n",
        "print('')\n",
        "\n",
        "contoh_set = {'Dewi', 'Budi', 'Cici', 'Linda', 'Cuci'}\n",
        "\n",
        "print(contoh_set)\n",
        "\n",
        "print(' ')\n",
        "print('=============================================')\n",
        "print('')\n",
        "\n",
        "contoh_frozen_set = ({'Dewi', 'Budi', 'Cici', 'Linda', 'Cuci'})\n",
        "\n",
        "print(contoh_frozen_set)\n",
        "\n",
        "\n"
      ],
      "outputs": [
        {
          "output_type": "stream",
          "name": "stdout",
          "text": [
            "['Dewi', 'Budi', 'Cici', 'Linda', 'Cuci']\n",
            " \n",
            "=============================================\n",
            "\n",
            "{'Dewi', 'Cuci', 'Budi', 'Cici', 'Linda'}\n",
            " \n",
            "=============================================\n",
            "\n",
            "{'Dewi', 'Cuci', 'Budi', 'Cici', 'Linda'}\n"
          ]
        }
      ],
      "metadata": {
        "colab": {
          "base_uri": "https://localhost:8080/"
        },
        "id": "6xMFnjJ-Bpss",
        "outputId": "d0e0a030-fa69-45bb-b94a-8a868f1e95e0"
      }
    },
    {
      "cell_type": "markdown",
      "source": [
        "Nomor 5\n",
        "----\n",
        "\n",
        "**Dictionaries**\n",
        "digunakan untuk menyimpan `nilai data` dalam pasangan `kunci`. kita tinggal memanggil nama kunci dengan simbol `[key]` maka akan tampil nilai dari data tersebut. "
      ],
      "metadata": {
        "id": "IRZ7tu6IDzZ5"
      }
    },
    {
      "cell_type": "code",
      "execution_count": null,
      "source": [
        "person = {'nama' : 'Jumadi', 'pekerjaan' : 'Programmer'}\n",
        "print (person['nama'])\n",
        "print (person['pekerjaan'])"
      ],
      "outputs": [
        {
          "output_type": "stream",
          "name": "stdout",
          "text": [
            "Jumadi\n",
            "Programmer\n"
          ]
        }
      ],
      "metadata": {
        "colab": {
          "base_uri": "https://localhost:8080/"
        },
        "id": "PWW7ZO3FDz06",
        "outputId": "88bfbdf1-36cd-4879-a884-5c6a8b21b6b6"
      }
    },
    {
      "cell_type": "markdown",
      "source": [
        "Nomor 6 \n",
        "--\n",
        "\n",
        "kita bisa mengambil data salah satu list dengan menyebutkan index nya dengan cara menambah kan simbol `[]` dan memasukan index keberapa yang ingin diambil `contoh_list[0]`.\n",
        " \n",
        "\n",
        "kita juga bisa merubah data dari data list dengan menyebutkan index keberapa yang akan dipindah. `contoh_list[3] = 'empat'` "
      ],
      "metadata": {
        "id": "deI5bbxeGBta"
      }
    },
    {
      "cell_type": "code",
      "execution_count": 2,
      "source": [
        "contoh_list = [1, 'dua', 3, 4.0, 5]\n",
        "\n",
        "print (contoh_list[0])\n",
        "print (contoh_list[3])\n",
        "\n",
        "contoh_list[3] = 'empat'\n",
        "\n",
        "print (contoh_list[3])"
      ],
      "outputs": [
        {
          "output_type": "stream",
          "name": "stdout",
          "text": [
            "1\n",
            "4.0\n",
            "empat\n"
          ]
        }
      ],
      "metadata": {
        "colab": {
          "base_uri": "https://localhost:8080/"
        },
        "id": "ENBUIFoKGB1b",
        "outputId": "9ece7109-6194-45c0-9101-3c427d95de7f"
      }
    }
  ]
}