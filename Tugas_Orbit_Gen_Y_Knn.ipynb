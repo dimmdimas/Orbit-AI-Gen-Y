{
  "nbformat": 4,
  "nbformat_minor": 2,
  "metadata": {
    "colab": {
      "name": "ArryWiandanaS_TugasKm_27_09_2021 ML-For-KNN.ipynb",
      "provenance": [],
      "collapsed_sections": []
    },
    "kernelspec": {
      "name": "python3",
      "display_name": "Python 3.9.6 64-bit"
    },
    "language_info": {
      "name": "python",
      "version": "3.9.6",
      "mimetype": "text/x-python",
      "codemirror_mode": {
        "name": "ipython",
        "version": 3
      },
      "pygments_lexer": "ipython3",
      "nbconvert_exporter": "python",
      "file_extension": ".py"
    },
    "interpreter": {
      "hash": "aee8b7b246df8f9039afb4144a1f6fd8d2ca17a180786b69acc140d282b71a49"
    }
  },
  "cells": [
    {
      "cell_type": "code",
      "execution_count": 1,
      "source": [
        "import itertools\n",
        "import numpy as np\n",
        "import matplotlib.pyplot as plt\n",
        "from matplotlib.ticker import NullFormatter\n",
        "import pandas as pd\n",
        "import numpy as np\n",
        "import matplotlib.ticker as ticker\n",
        "from sklearn import preprocessing\n",
        "%matplotlib inline\n"
      ],
      "outputs": [],
      "metadata": {
        "id": "4YcjRVsKPhJP"
      }
    },
    {
      "cell_type": "code",
      "execution_count": 2,
      "source": [
        "!wget -O iris.csv https://raw.githubusercontent.com/achmatim/data-mining/main/Dataset/iris.csv"
      ],
      "outputs": [
        {
          "output_type": "stream",
          "name": "stdout",
          "text": [
            "--2021-09-30 13:52:35--  https://raw.githubusercontent.com/achmatim/data-mining/main/Dataset/iris.csv\n",
            "Resolving raw.githubusercontent.com (raw.githubusercontent.com)... 185.199.108.133, 185.199.109.133, 185.199.110.133, ...\n",
            "Menghubungi raw.githubusercontent.com (raw.githubusercontent.com)|185.199.108.133|:443... terhubung.\n",
            "Permintaan HTTP dikirimkan, menunggu balasan... 200 OK\n",
            "Besar: 4761 (4.6K) [text/plain]\n",
            "Simpan ke: ‘iris.csv’\n",
            "\n",
            "iris.csv            100%[===================>]   4.65K  --.-KB/s    in 0s      \n",
            "\n",
            "2021-09-30 13:52:36 (28.9 MB/s) - ‘iris.csv’ disimpan [4761/4761]\n",
            "\n"
          ]
        }
      ],
      "metadata": {
        "colab": {
          "base_uri": "https://localhost:8080/"
        },
        "id": "pZFr1ErRQd_Y",
        "outputId": "ce01a56b-f637-4f43-ae70-10fd9d7e09f0"
      }
    },
    {
      "cell_type": "code",
      "execution_count": 3,
      "source": [
        "df = pd.read_csv('iris.csv')\n",
        "df.head()"
      ],
      "outputs": [
        {
          "output_type": "execute_result",
          "data": {
            "text/html": [
              "<div>\n",
              "<style scoped>\n",
              "    .dataframe tbody tr th:only-of-type {\n",
              "        vertical-align: middle;\n",
              "    }\n",
              "\n",
              "    .dataframe tbody tr th {\n",
              "        vertical-align: top;\n",
              "    }\n",
              "\n",
              "    .dataframe thead th {\n",
              "        text-align: right;\n",
              "    }\n",
              "</style>\n",
              "<table border=\"1\" class=\"dataframe\">\n",
              "  <thead>\n",
              "    <tr style=\"text-align: right;\">\n",
              "      <th></th>\n",
              "      <th>SepalLengthCm</th>\n",
              "      <th>SepalWidthCm</th>\n",
              "      <th>PetalLengthCm</th>\n",
              "      <th>PetalWidthCm</th>\n",
              "      <th>Label</th>\n",
              "    </tr>\n",
              "  </thead>\n",
              "  <tbody>\n",
              "    <tr>\n",
              "      <th>0</th>\n",
              "      <td>5.1</td>\n",
              "      <td>3.5</td>\n",
              "      <td>1.4</td>\n",
              "      <td>0.2</td>\n",
              "      <td>Iris-setosa</td>\n",
              "    </tr>\n",
              "    <tr>\n",
              "      <th>1</th>\n",
              "      <td>4.9</td>\n",
              "      <td>3.0</td>\n",
              "      <td>1.4</td>\n",
              "      <td>0.2</td>\n",
              "      <td>Iris-setosa</td>\n",
              "    </tr>\n",
              "    <tr>\n",
              "      <th>2</th>\n",
              "      <td>4.7</td>\n",
              "      <td>3.2</td>\n",
              "      <td>1.3</td>\n",
              "      <td>0.2</td>\n",
              "      <td>Iris-setosa</td>\n",
              "    </tr>\n",
              "    <tr>\n",
              "      <th>3</th>\n",
              "      <td>4.6</td>\n",
              "      <td>3.1</td>\n",
              "      <td>1.5</td>\n",
              "      <td>0.2</td>\n",
              "      <td>Iris-setosa</td>\n",
              "    </tr>\n",
              "    <tr>\n",
              "      <th>4</th>\n",
              "      <td>5.0</td>\n",
              "      <td>3.6</td>\n",
              "      <td>1.4</td>\n",
              "      <td>0.2</td>\n",
              "      <td>Iris-setosa</td>\n",
              "    </tr>\n",
              "  </tbody>\n",
              "</table>\n",
              "</div>"
            ],
            "text/plain": [
              "   SepalLengthCm  SepalWidthCm  PetalLengthCm  PetalWidthCm        Label\n",
              "0            5.1           3.5            1.4           0.2  Iris-setosa\n",
              "1            4.9           3.0            1.4           0.2  Iris-setosa\n",
              "2            4.7           3.2            1.3           0.2  Iris-setosa\n",
              "3            4.6           3.1            1.5           0.2  Iris-setosa\n",
              "4            5.0           3.6            1.4           0.2  Iris-setosa"
            ]
          },
          "metadata": {},
          "execution_count": 3
        }
      ],
      "metadata": {
        "colab": {
          "base_uri": "https://localhost:8080/",
          "height": 202
        },
        "id": "4PENl6HwQvru",
        "outputId": "c9bc66a6-331d-4bbc-840d-fcfbd30f7621"
      }
    },
    {
      "cell_type": "code",
      "execution_count": 4,
      "source": [
        "df.hist(column='SepalLengthCm', bins=50)"
      ],
      "outputs": [
        {
          "output_type": "execute_result",
          "data": {
            "text/plain": [
              "array([[<AxesSubplot:title={'center':'SepalLengthCm'}>]], dtype=object)"
            ]
          },
          "metadata": {},
          "execution_count": 4
        },
        {
          "output_type": "display_data",
          "data": {
            "image/png": "[encoded data removed]",
            "text/plain": [
              "<Figure size 432x288 with 1 Axes>"
            ]
          },
          "metadata": {
            "needs_background": "light"
          }
        }
      ],
      "metadata": {
        "colab": {
          "base_uri": "https://localhost:8080/",
          "height": 314
        },
        "id": "yTWZQ7peRBHc",
        "outputId": "5ac11dfe-f0e3-474a-c9a0-b0d548baa796"
      }
    },
    {
      "cell_type": "code",
      "execution_count": 5,
      "source": [
        "df.columns\n",
        "x = df[['SepalLengthCm', 'SepalWidthCm', 'PetalLengthCm','PetalWidthCm']].values\n",
        "x[0:5]"
      ],
      "outputs": [
        {
          "output_type": "execute_result",
          "data": {
            "text/plain": [
              "array([[5.1, 3.5, 1.4, 0.2],\n",
              "       [4.9, 3. , 1.4, 0.2],\n",
              "       [4.7, 3.2, 1.3, 0.2],\n",
              "       [4.6, 3.1, 1.5, 0.2],\n",
              "       [5. , 3.6, 1.4, 0.2]])"
            ]
          },
          "metadata": {},
          "execution_count": 5
        }
      ],
      "metadata": {
        "colab": {
          "base_uri": "https://localhost:8080/"
        },
        "id": "zYKD_L5VRdiu",
        "outputId": "4b531b76-b2c9-49b2-cc26-cf2cd7c6cf3a"
      }
    },
    {
      "cell_type": "code",
      "execution_count": 6,
      "source": [
        "#mendifinisikan label\n",
        "y = df['Label'].values\n",
        "y[0:5]"
      ],
      "outputs": [
        {
          "output_type": "execute_result",
          "data": {
            "text/plain": [
              "array(['Iris-setosa', 'Iris-setosa', 'Iris-setosa', 'Iris-setosa',\n",
              "       'Iris-setosa'], dtype=object)"
            ]
          },
          "metadata": {},
          "execution_count": 6
        }
      ],
      "metadata": {
        "colab": {
          "base_uri": "https://localhost:8080/"
        },
        "id": "cw2pO4fUJGTa",
        "outputId": "297c6601-57e7-4e2b-fcf2-615686c51909"
      }
    },
    {
      "cell_type": "code",
      "execution_count": 7,
      "source": [
        "x = preprocessing.StandardScaler().fit(x).transform(x.astype(float))\n",
        "x[0:4]"
      ],
      "outputs": [
        {
          "output_type": "execute_result",
          "data": {
            "text/plain": [
              "array([[-0.90068117,  1.03205722, -1.3412724 , -1.31297673],\n",
              "       [-1.14301691, -0.1249576 , -1.3412724 , -1.31297673],\n",
              "       [-1.38535265,  0.33784833, -1.39813811, -1.31297673],\n",
              "       [-1.50652052,  0.10644536, -1.2844067 , -1.31297673]])"
            ]
          },
          "metadata": {},
          "execution_count": 7
        }
      ],
      "metadata": {
        "colab": {
          "base_uri": "https://localhost:8080/"
        },
        "id": "efRigYrjJida",
        "outputId": "d80ccff8-60da-4113-9e87-5a10de773724"
      }
    },
    {
      "cell_type": "code",
      "execution_count": 8,
      "source": [
        "from sklearn.model_selection import train_test_split\n",
        "x_train, x_test, y_train, y_test = train_test_split(x,y, test_size=0.2, random_state=4)\n",
        "print('Train set : ',x_train.shape, y_train.shape)\n",
        "print('Test set : ',x_test.shape, y_test.shape)\n"
      ],
      "outputs": [
        {
          "output_type": "stream",
          "name": "stdout",
          "text": [
            "Train set :  (120, 4) (120,)\n",
            "Test set :  (30, 4) (30,)\n"
          ]
        }
      ],
      "metadata": {
        "colab": {
          "base_uri": "https://localhost:8080/"
        },
        "id": "w6KSZbbKPqN_",
        "outputId": "1b023c73-ca73-4f5d-bfac-0e89e82d720e"
      }
    },
    {
      "cell_type": "code",
      "execution_count": 9,
      "source": [
        "from sklearn.neighbors import KNeighborsClassifier"
      ],
      "outputs": [],
      "metadata": {
        "id": "FQnNdG55QHb-"
      }
    },
    {
      "cell_type": "code",
      "execution_count": 10,
      "source": [
        "k=4\n",
        "#train model dan prediction\n",
        "knn = KNeighborsClassifier(n_neighbors=k).fit(x_train,y_train)\n",
        "knn"
      ],
      "outputs": [
        {
          "output_type": "execute_result",
          "data": {
            "text/plain": [
              "KNeighborsClassifier(n_neighbors=4)"
            ]
          },
          "metadata": {},
          "execution_count": 10
        }
      ],
      "metadata": {
        "colab": {
          "base_uri": "https://localhost:8080/"
        },
        "id": "RHFo9Y-8Qgmv",
        "outputId": "22135a30-aa58-49af-a394-3ea51e151c78"
      }
    },
    {
      "cell_type": "code",
      "execution_count": 11,
      "source": [
        "yhat = knn.predict(x_test)\n",
        "yhat[0:5]"
      ],
      "outputs": [
        {
          "output_type": "execute_result",
          "data": {
            "text/plain": [
              "array(['Iris-virginica', 'Iris-setosa', 'Iris-virginica',\n",
              "       'Iris-virginica', 'Iris-virginica'], dtype=object)"
            ]
          },
          "metadata": {},
          "execution_count": 11
        }
      ],
      "metadata": {
        "colab": {
          "base_uri": "https://localhost:8080/"
        },
        "id": "fLrR0mYrRuKE",
        "outputId": "4e43e4af-4088-49c3-f0da-98be72b45406"
      }
    },
    {
      "cell_type": "code",
      "execution_count": 12,
      "source": [
        "from sklearn import metrics\n",
        "print(\"Train set accuracy : \",metrics.accuracy_score(y_train, knn.predict(x_train)))\n",
        "print(\"Test set accuracy : \",metrics.accuracy_score(y_test,yhat))\n"
      ],
      "outputs": [
        {
          "output_type": "stream",
          "name": "stdout",
          "text": [
            "Train set accuracy :  0.9666666666666667\n",
            "Test set accuracy :  0.9333333333333333\n"
          ]
        }
      ],
      "metadata": {
        "colab": {
          "base_uri": "https://localhost:8080/"
        },
        "id": "Y43CGF3OSPfS",
        "outputId": "f8847e41-bba7-4230-d879-b785b3783063"
      }
    },
    {
      "cell_type": "code",
      "execution_count": 13,
      "source": [
        "ks = 20\n",
        "mean_acc = np.zeros((ks-1))\n",
        "std_acc = np.zeros((ks-1))\n",
        "confutionMax = [];\n",
        "for n in range (1,ks):\n",
        "  #train model and predict\n",
        "  neighbor = KNeighborsClassifier(n_neighbors=n).fit(x_train,y_train)\n",
        "  yhat=neighbor.predict(x_test)\n",
        "  mean_acc[n-1] = metrics.accuracy_score(y_test, yhat)\n",
        "  std_acc[n-1]=np.std(yhat==y_test)/np.sqrt(yhat.shape[0])\n",
        "\n",
        "mean_acc"
      ],
      "outputs": [
        {
          "output_type": "execute_result",
          "data": {
            "text/plain": [
              "array([0.9       , 0.93333333, 0.9       , 0.93333333, 0.93333333,\n",
              "       0.93333333, 0.93333333, 0.93333333, 0.93333333, 0.93333333,\n",
              "       0.93333333, 0.93333333, 0.93333333, 0.93333333, 0.93333333,\n",
              "       0.93333333, 0.93333333, 0.93333333, 0.93333333])"
            ]
          },
          "metadata": {},
          "execution_count": 13
        }
      ],
      "metadata": {
        "colab": {
          "base_uri": "https://localhost:8080/"
        },
        "id": "_h_An-4gStv5",
        "outputId": "30694560-2fc5-4ffb-9e57-83cbb5632a63"
      }
    },
    {
      "cell_type": "code",
      "execution_count": 14,
      "source": [
        "plt.plot(range(1,ks),mean_acc,'g')\n",
        "plt.fill_between(range(1,ks),mean_acc - 1 * std_acc,mean_acc + 1 * std_acc, alpha=0.10)\n",
        "plt.legend(('accuracy', '+/- 3xstd'));\n",
        "plt.ylabel('accuracy');\n",
        "plt.xlabel('number of neighbor (k) ');\n",
        "plt.tight_layout();\n",
        "plt.show()"
      ],
      "outputs": [
        {
          "output_type": "display_data",
          "data": {
            "image/png": "[encoded data removed]",
            "text/plain": [
              "<Figure size 432x288 with 1 Axes>"
            ]
          },
          "metadata": {
            "needs_background": "light"
          }
        }
      ],
      "metadata": {
        "colab": {
          "base_uri": "https://localhost:8080/",
          "height": 297
        },
        "id": "ODfR4DIRT06A",
        "outputId": "19fa05ab-8c1c-4637-8c53-d049a06958a6"
      }
    },
    {
      "cell_type": "code",
      "execution_count": 15,
      "source": [
        "print(\"Akurasi terbaik adalah : \",mean_acc.max(), \"dengan k = \",mean_acc.argmax()+1)"
      ],
      "outputs": [
        {
          "output_type": "stream",
          "name": "stdout",
          "text": [
            "Akurasi terbaik adalah :  0.9333333333333333 dengan k =  2\n"
          ]
        }
      ],
      "metadata": {
        "colab": {
          "base_uri": "https://localhost:8080/"
        },
        "id": "r-lqBEZHU299",
        "outputId": "b08acbbe-8b4e-4b85-cbc0-bb94b2bc7b32"
      }
    }
  ]
}